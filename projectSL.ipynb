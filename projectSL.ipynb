{
 "cells": [
  {
   "cell_type": "markdown",
   "metadata": {
    "toc": true
   },
   "source": [
    "<h1>Содержание<span class=\"tocSkip\"></span></h1>\n",
    "<div class=\"toc\"><ul class=\"toc-item\"><li><span><a href=\"#Подготовка-данных\" data-toc-modified-id=\"Подготовка-данных-1\"><span class=\"toc-item-num\">1&nbsp;&nbsp;</span>Подготовка данных</a></span></li><li><span><a href=\"#Исследование-задачи\" data-toc-modified-id=\"Исследование-задачи-2\"><span class=\"toc-item-num\">2&nbsp;&nbsp;</span>Исследование задачи</a></span></li><li><span><a href=\"#Борьба-с-дисбалансом\" data-toc-modified-id=\"Борьба-с-дисбалансом-3\"><span class=\"toc-item-num\">3&nbsp;&nbsp;</span>Борьба с дисбалансом</a></span></li><li><span><a href=\"#Тестирование-модели\" data-toc-modified-id=\"Тестирование-модели-4\"><span class=\"toc-item-num\">4&nbsp;&nbsp;</span>Тестирование модели</a></span></li><li><span><a href=\"#Чек-лист-готовности-проекта\" data-toc-modified-id=\"Чек-лист-готовности-проекта-5\"><span class=\"toc-item-num\">5&nbsp;&nbsp;</span>Чек-лист готовности проекта</a></span></li></ul></div>"
   ]
  },
  {
   "cell_type": "markdown",
   "metadata": {},
   "source": [
    "# Отток клиентов"
   ]
  },
  {
   "cell_type": "markdown",
   "metadata": {},
   "source": [
    "В проекте будет предложена модель, которая наиболее точно позволит предсказать вероятность потери банком клиента. \n",
    "Для построения модели потребуется выполнить следующие шаги:\n",
    "1) Изучить и подготовить данные для обучения, проверки и тестирования\n",
    "\n",
    "2) Исследовать различные классификационные модели на основе логической регрессии, алгоритма решающего дерева и случайного леса\n",
    "\n",
    "3) Оптимизировать обучающую выборку путем компенсации дисбаланса классов\n",
    "\n",
    "4) Протестировать наилучшую модель на тестовой выборке"
   ]
  },
  {
   "cell_type": "code",
   "execution_count": 2,
   "metadata": {},
   "outputs": [],
   "source": [
    "# импортируем библиотеки, модели, функции и метрики, которые потребуются для выполнения проекта\n",
    "\n",
    "import pandas as pd\n",
    "import numpy as np\n",
    "import matplotlib.pyplot as plt\n",
    "\n",
    "from sklearn.model_selection import train_test_split\n",
    "from sklearn.preprocessing import StandardScaler\n",
    "from sklearn.utils import shuffle\n",
    "from sklearn.linear_model import LogisticRegression\n",
    "from sklearn.tree import DecisionTreeClassifier\n",
    "from sklearn.ensemble import RandomForestClassifier\n",
    "from sklearn.metrics import accuracy_score\n",
    "from sklearn.metrics import precision_score\n",
    "from sklearn.metrics import recall_score\n",
    "from sklearn.metrics import f1_score\n",
    "from sklearn.metrics import precision_recall_curve\n",
    "from sklearn.metrics import roc_curve\n",
    "from sklearn.metrics import roc_auc_score\n",
    "from sklearn.metrics import confusion_matrix\n",
    "\n",
    "import warnings\n",
    "warnings.filterwarnings('ignore')"
   ]
  },
  {
   "cell_type": "markdown",
   "metadata": {},
   "source": [
    "## Подготовка данных"
   ]
  },
  {
   "cell_type": "code",
   "execution_count": 3,
   "metadata": {},
   "outputs": [
    {
     "name": "stdout",
     "output_type": "stream",
     "text": [
      "<class 'pandas.core.frame.DataFrame'>\n",
      "RangeIndex: 10000 entries, 0 to 9999\n",
      "Data columns (total 14 columns):\n",
      " #   Column           Non-Null Count  Dtype  \n",
      "---  ------           --------------  -----  \n",
      " 0   RowNumber        10000 non-null  int64  \n",
      " 1   CustomerId       10000 non-null  int64  \n",
      " 2   Surname          10000 non-null  object \n",
      " 3   CreditScore      10000 non-null  int64  \n",
      " 4   Geography        10000 non-null  object \n",
      " 5   Gender           10000 non-null  object \n",
      " 6   Age              10000 non-null  int64  \n",
      " 7   Tenure           10000 non-null  int64  \n",
      " 8   Balance          10000 non-null  float64\n",
      " 9   NumOfProducts    10000 non-null  int64  \n",
      " 10  HasCrCard        10000 non-null  int64  \n",
      " 11  IsActiveMember   10000 non-null  int64  \n",
      " 12  EstimatedSalary  10000 non-null  float64\n",
      " 13  Exited           10000 non-null  int64  \n",
      "dtypes: float64(2), int64(9), object(3)\n",
      "memory usage: 1.1+ MB\n"
     ]
    },
    {
     "data": {
      "text/html": [
       "<div>\n",
       "<style scoped>\n",
       "    .dataframe tbody tr th:only-of-type {\n",
       "        vertical-align: middle;\n",
       "    }\n",
       "\n",
       "    .dataframe tbody tr th {\n",
       "        vertical-align: top;\n",
       "    }\n",
       "\n",
       "    .dataframe thead th {\n",
       "        text-align: right;\n",
       "    }\n",
       "</style>\n",
       "<table border=\"1\" class=\"dataframe\">\n",
       "  <thead>\n",
       "    <tr style=\"text-align: right;\">\n",
       "      <th></th>\n",
       "      <th>RowNumber</th>\n",
       "      <th>CustomerId</th>\n",
       "      <th>Surname</th>\n",
       "      <th>CreditScore</th>\n",
       "      <th>Geography</th>\n",
       "      <th>Gender</th>\n",
       "      <th>Age</th>\n",
       "      <th>Tenure</th>\n",
       "      <th>Balance</th>\n",
       "      <th>NumOfProducts</th>\n",
       "      <th>HasCrCard</th>\n",
       "      <th>IsActiveMember</th>\n",
       "      <th>EstimatedSalary</th>\n",
       "      <th>Exited</th>\n",
       "    </tr>\n",
       "  </thead>\n",
       "  <tbody>\n",
       "    <tr>\n",
       "      <th>0</th>\n",
       "      <td>1</td>\n",
       "      <td>15634602</td>\n",
       "      <td>Hargrave</td>\n",
       "      <td>619</td>\n",
       "      <td>France</td>\n",
       "      <td>Female</td>\n",
       "      <td>42</td>\n",
       "      <td>2</td>\n",
       "      <td>0.00</td>\n",
       "      <td>1</td>\n",
       "      <td>1</td>\n",
       "      <td>1</td>\n",
       "      <td>101348.88</td>\n",
       "      <td>1</td>\n",
       "    </tr>\n",
       "    <tr>\n",
       "      <th>1</th>\n",
       "      <td>2</td>\n",
       "      <td>15647311</td>\n",
       "      <td>Hill</td>\n",
       "      <td>608</td>\n",
       "      <td>Spain</td>\n",
       "      <td>Female</td>\n",
       "      <td>41</td>\n",
       "      <td>1</td>\n",
       "      <td>83807.86</td>\n",
       "      <td>1</td>\n",
       "      <td>0</td>\n",
       "      <td>1</td>\n",
       "      <td>112542.58</td>\n",
       "      <td>0</td>\n",
       "    </tr>\n",
       "    <tr>\n",
       "      <th>2</th>\n",
       "      <td>3</td>\n",
       "      <td>15619304</td>\n",
       "      <td>Onio</td>\n",
       "      <td>502</td>\n",
       "      <td>France</td>\n",
       "      <td>Female</td>\n",
       "      <td>42</td>\n",
       "      <td>8</td>\n",
       "      <td>159660.80</td>\n",
       "      <td>3</td>\n",
       "      <td>1</td>\n",
       "      <td>0</td>\n",
       "      <td>113931.57</td>\n",
       "      <td>1</td>\n",
       "    </tr>\n",
       "    <tr>\n",
       "      <th>3</th>\n",
       "      <td>4</td>\n",
       "      <td>15701354</td>\n",
       "      <td>Boni</td>\n",
       "      <td>699</td>\n",
       "      <td>France</td>\n",
       "      <td>Female</td>\n",
       "      <td>39</td>\n",
       "      <td>1</td>\n",
       "      <td>0.00</td>\n",
       "      <td>2</td>\n",
       "      <td>0</td>\n",
       "      <td>0</td>\n",
       "      <td>93826.63</td>\n",
       "      <td>0</td>\n",
       "    </tr>\n",
       "    <tr>\n",
       "      <th>4</th>\n",
       "      <td>5</td>\n",
       "      <td>15737888</td>\n",
       "      <td>Mitchell</td>\n",
       "      <td>850</td>\n",
       "      <td>Spain</td>\n",
       "      <td>Female</td>\n",
       "      <td>43</td>\n",
       "      <td>2</td>\n",
       "      <td>125510.82</td>\n",
       "      <td>1</td>\n",
       "      <td>1</td>\n",
       "      <td>1</td>\n",
       "      <td>79084.10</td>\n",
       "      <td>0</td>\n",
       "    </tr>\n",
       "    <tr>\n",
       "      <th>5</th>\n",
       "      <td>6</td>\n",
       "      <td>15574012</td>\n",
       "      <td>Chu</td>\n",
       "      <td>645</td>\n",
       "      <td>Spain</td>\n",
       "      <td>Male</td>\n",
       "      <td>44</td>\n",
       "      <td>8</td>\n",
       "      <td>113755.78</td>\n",
       "      <td>2</td>\n",
       "      <td>1</td>\n",
       "      <td>0</td>\n",
       "      <td>149756.71</td>\n",
       "      <td>1</td>\n",
       "    </tr>\n",
       "    <tr>\n",
       "      <th>6</th>\n",
       "      <td>7</td>\n",
       "      <td>15592531</td>\n",
       "      <td>Bartlett</td>\n",
       "      <td>822</td>\n",
       "      <td>France</td>\n",
       "      <td>Male</td>\n",
       "      <td>50</td>\n",
       "      <td>7</td>\n",
       "      <td>0.00</td>\n",
       "      <td>2</td>\n",
       "      <td>1</td>\n",
       "      <td>1</td>\n",
       "      <td>10062.80</td>\n",
       "      <td>0</td>\n",
       "    </tr>\n",
       "    <tr>\n",
       "      <th>7</th>\n",
       "      <td>8</td>\n",
       "      <td>15656148</td>\n",
       "      <td>Obinna</td>\n",
       "      <td>376</td>\n",
       "      <td>Germany</td>\n",
       "      <td>Female</td>\n",
       "      <td>29</td>\n",
       "      <td>4</td>\n",
       "      <td>115046.74</td>\n",
       "      <td>4</td>\n",
       "      <td>1</td>\n",
       "      <td>0</td>\n",
       "      <td>119346.88</td>\n",
       "      <td>1</td>\n",
       "    </tr>\n",
       "    <tr>\n",
       "      <th>8</th>\n",
       "      <td>9</td>\n",
       "      <td>15792365</td>\n",
       "      <td>He</td>\n",
       "      <td>501</td>\n",
       "      <td>France</td>\n",
       "      <td>Male</td>\n",
       "      <td>44</td>\n",
       "      <td>4</td>\n",
       "      <td>142051.07</td>\n",
       "      <td>2</td>\n",
       "      <td>0</td>\n",
       "      <td>1</td>\n",
       "      <td>74940.50</td>\n",
       "      <td>0</td>\n",
       "    </tr>\n",
       "    <tr>\n",
       "      <th>9</th>\n",
       "      <td>10</td>\n",
       "      <td>15592389</td>\n",
       "      <td>H?</td>\n",
       "      <td>684</td>\n",
       "      <td>France</td>\n",
       "      <td>Male</td>\n",
       "      <td>27</td>\n",
       "      <td>2</td>\n",
       "      <td>134603.88</td>\n",
       "      <td>1</td>\n",
       "      <td>1</td>\n",
       "      <td>1</td>\n",
       "      <td>71725.73</td>\n",
       "      <td>0</td>\n",
       "    </tr>\n",
       "  </tbody>\n",
       "</table>\n",
       "</div>"
      ],
      "text/plain": [
       "   RowNumber  CustomerId   Surname  CreditScore Geography  Gender  Age  \\\n",
       "0          1    15634602  Hargrave          619    France  Female   42   \n",
       "1          2    15647311      Hill          608     Spain  Female   41   \n",
       "2          3    15619304      Onio          502    France  Female   42   \n",
       "3          4    15701354      Boni          699    France  Female   39   \n",
       "4          5    15737888  Mitchell          850     Spain  Female   43   \n",
       "5          6    15574012       Chu          645     Spain    Male   44   \n",
       "6          7    15592531  Bartlett          822    France    Male   50   \n",
       "7          8    15656148    Obinna          376   Germany  Female   29   \n",
       "8          9    15792365        He          501    France    Male   44   \n",
       "9         10    15592389        H?          684    France    Male   27   \n",
       "\n",
       "   Tenure    Balance  NumOfProducts  HasCrCard  IsActiveMember  \\\n",
       "0       2       0.00              1          1               1   \n",
       "1       1   83807.86              1          0               1   \n",
       "2       8  159660.80              3          1               0   \n",
       "3       1       0.00              2          0               0   \n",
       "4       2  125510.82              1          1               1   \n",
       "5       8  113755.78              2          1               0   \n",
       "6       7       0.00              2          1               1   \n",
       "7       4  115046.74              4          1               0   \n",
       "8       4  142051.07              2          0               1   \n",
       "9       2  134603.88              1          1               1   \n",
       "\n",
       "   EstimatedSalary  Exited  \n",
       "0        101348.88       1  \n",
       "1        112542.58       0  \n",
       "2        113931.57       1  \n",
       "3         93826.63       0  \n",
       "4         79084.10       0  \n",
       "5        149756.71       1  \n",
       "6         10062.80       0  \n",
       "7        119346.88       1  \n",
       "8         74940.50       0  \n",
       "9         71725.73       0  "
      ]
     },
     "execution_count": 3,
     "metadata": {},
     "output_type": "execute_result"
    }
   ],
   "source": [
    "data = pd.read_csv('./Churn.csv')\n",
    "data.info()\n",
    "data.head(10)"
   ]
  },
  {
   "cell_type": "markdown",
   "metadata": {},
   "source": [
    "Датасет состоит из 14 параметров и 10000 случаев. Один из параметров Tenure содержит значения типа NaN. Значения типа NaN необходимо исключить, чтобы данные возможно было использовать для построения модели."
   ]
  },
  {
   "cell_type": "code",
   "execution_count": 4,
   "metadata": {},
   "outputs": [
    {
     "data": {
      "text/plain": [
       "array([ 2,  1,  8,  7,  4,  6,  3, 10,  5,  9,  0])"
      ]
     },
     "execution_count": 4,
     "metadata": {},
     "output_type": "execute_result"
    }
   ],
   "source": [
    "data['Tenure'].unique() # выведем уникальные значения парамерта Tenure"
   ]
  },
  {
   "cell_type": "code",
   "execution_count": 5,
   "metadata": {},
   "outputs": [
    {
     "data": {
      "text/plain": [
       "(10000, 14)"
      ]
     },
     "execution_count": 5,
     "metadata": {},
     "output_type": "execute_result"
    }
   ],
   "source": [
    "data = data.dropna() # исключим данные со значением типа NaN\n",
    "data.shape"
   ]
  },
  {
   "cell_type": "code",
   "execution_count": 6,
   "metadata": {},
   "outputs": [
    {
     "data": {
      "text/plain": [
       "array([ 2,  1,  8,  7,  4,  6,  3, 10,  5,  9,  0])"
      ]
     },
     "execution_count": 6,
     "metadata": {},
     "output_type": "execute_result"
    }
   ],
   "source": [
    "data['Tenure'] = data['Tenure'].astype(int) # преобразуем оставшиеся значения в целочисленные\n",
    "data['Tenure'].unique()"
   ]
  },
  {
   "cell_type": "code",
   "execution_count": 7,
   "metadata": {},
   "outputs": [
    {
     "data": {
      "text/plain": [
       "RowNumber            int64\n",
       "CustomerId           int64\n",
       "Surname             object\n",
       "CreditScore          int64\n",
       "Geography           object\n",
       "Gender              object\n",
       "Age                  int64\n",
       "Tenure               int64\n",
       "Balance            float64\n",
       "NumOfProducts        int64\n",
       "HasCrCard            int64\n",
       "IsActiveMember       int64\n",
       "EstimatedSalary    float64\n",
       "Exited               int64\n",
       "dtype: object"
      ]
     },
     "execution_count": 7,
     "metadata": {},
     "output_type": "execute_result"
    }
   ],
   "source": [
    "data.dtypes # оценим типы данных"
   ]
  },
  {
   "cell_type": "code",
   "execution_count": 8,
   "metadata": {},
   "outputs": [
    {
     "name": "stdout",
     "output_type": "stream",
     "text": [
      "(10000, 10)\n",
      "(10000,)\n"
     ]
    }
   ],
   "source": [
    "# выделим признаки и целевой признак, при этом также исключиим параметры, которые не требуются для построения модели (RowNumber, CustomerID, Surname)\n",
    "\n",
    "features = data.drop(['Exited','RowNumber','CustomerId','Surname'], axis=1) \n",
    "target = data['Exited']\n",
    "\n",
    "print(features.shape)\n",
    "print(target.shape)"
   ]
  },
  {
   "cell_type": "code",
   "execution_count": 9,
   "metadata": {},
   "outputs": [
    {
     "data": {
      "text/html": [
       "<div>\n",
       "<style scoped>\n",
       "    .dataframe tbody tr th:only-of-type {\n",
       "        vertical-align: middle;\n",
       "    }\n",
       "\n",
       "    .dataframe tbody tr th {\n",
       "        vertical-align: top;\n",
       "    }\n",
       "\n",
       "    .dataframe thead th {\n",
       "        text-align: right;\n",
       "    }\n",
       "</style>\n",
       "<table border=\"1\" class=\"dataframe\">\n",
       "  <thead>\n",
       "    <tr style=\"text-align: right;\">\n",
       "      <th></th>\n",
       "      <th>CreditScore</th>\n",
       "      <th>Age</th>\n",
       "      <th>Tenure</th>\n",
       "      <th>Balance</th>\n",
       "      <th>NumOfProducts</th>\n",
       "      <th>HasCrCard</th>\n",
       "      <th>IsActiveMember</th>\n",
       "      <th>EstimatedSalary</th>\n",
       "      <th>Geography_Germany</th>\n",
       "      <th>Geography_Spain</th>\n",
       "      <th>Gender_Male</th>\n",
       "    </tr>\n",
       "  </thead>\n",
       "  <tbody>\n",
       "    <tr>\n",
       "      <th>0</th>\n",
       "      <td>619</td>\n",
       "      <td>42</td>\n",
       "      <td>2</td>\n",
       "      <td>0.00</td>\n",
       "      <td>1</td>\n",
       "      <td>1</td>\n",
       "      <td>1</td>\n",
       "      <td>101348.88</td>\n",
       "      <td>0</td>\n",
       "      <td>0</td>\n",
       "      <td>0</td>\n",
       "    </tr>\n",
       "    <tr>\n",
       "      <th>1</th>\n",
       "      <td>608</td>\n",
       "      <td>41</td>\n",
       "      <td>1</td>\n",
       "      <td>83807.86</td>\n",
       "      <td>1</td>\n",
       "      <td>0</td>\n",
       "      <td>1</td>\n",
       "      <td>112542.58</td>\n",
       "      <td>0</td>\n",
       "      <td>1</td>\n",
       "      <td>0</td>\n",
       "    </tr>\n",
       "    <tr>\n",
       "      <th>2</th>\n",
       "      <td>502</td>\n",
       "      <td>42</td>\n",
       "      <td>8</td>\n",
       "      <td>159660.80</td>\n",
       "      <td>3</td>\n",
       "      <td>1</td>\n",
       "      <td>0</td>\n",
       "      <td>113931.57</td>\n",
       "      <td>0</td>\n",
       "      <td>0</td>\n",
       "      <td>0</td>\n",
       "    </tr>\n",
       "    <tr>\n",
       "      <th>3</th>\n",
       "      <td>699</td>\n",
       "      <td>39</td>\n",
       "      <td>1</td>\n",
       "      <td>0.00</td>\n",
       "      <td>2</td>\n",
       "      <td>0</td>\n",
       "      <td>0</td>\n",
       "      <td>93826.63</td>\n",
       "      <td>0</td>\n",
       "      <td>0</td>\n",
       "      <td>0</td>\n",
       "    </tr>\n",
       "    <tr>\n",
       "      <th>4</th>\n",
       "      <td>850</td>\n",
       "      <td>43</td>\n",
       "      <td>2</td>\n",
       "      <td>125510.82</td>\n",
       "      <td>1</td>\n",
       "      <td>1</td>\n",
       "      <td>1</td>\n",
       "      <td>79084.10</td>\n",
       "      <td>0</td>\n",
       "      <td>1</td>\n",
       "      <td>0</td>\n",
       "    </tr>\n",
       "  </tbody>\n",
       "</table>\n",
       "</div>"
      ],
      "text/plain": [
       "   CreditScore  Age  Tenure    Balance  NumOfProducts  HasCrCard  \\\n",
       "0          619   42       2       0.00              1          1   \n",
       "1          608   41       1   83807.86              1          0   \n",
       "2          502   42       8  159660.80              3          1   \n",
       "3          699   39       1       0.00              2          0   \n",
       "4          850   43       2  125510.82              1          1   \n",
       "\n",
       "   IsActiveMember  EstimatedSalary  Geography_Germany  Geography_Spain  \\\n",
       "0               1        101348.88                  0                0   \n",
       "1               1        112542.58                  0                1   \n",
       "2               0        113931.57                  0                0   \n",
       "3               0         93826.63                  0                0   \n",
       "4               1         79084.10                  0                1   \n",
       "\n",
       "   Gender_Male  \n",
       "0            0  \n",
       "1            0  \n",
       "2            0  \n",
       "3            0  \n",
       "4            0  "
      ]
     },
     "execution_count": 9,
     "metadata": {},
     "output_type": "execute_result"
    }
   ],
   "source": [
    "# преобразуем категориальные признаки в численные техникой ohe\n",
    "\n",
    "features_ohe = pd.get_dummies(features, drop_first=True)\n",
    "features_ohe.head()"
   ]
  },
  {
   "cell_type": "code",
   "execution_count": 10,
   "metadata": {},
   "outputs": [],
   "source": [
    "# разделим данные на обучающую, валидационную и тестовую выборки\n",
    "\n",
    "features_train, features_valid_test, target_train, target_valid_test = train_test_split(features_ohe, target, test_size=0.4, random_state=12345)\n",
    "features_valid, features_test, target_valid, target_test = train_test_split(features_valid_test, target_valid_test, test_size=0.5, random_state=12345)"
   ]
  },
  {
   "cell_type": "code",
   "execution_count": 11,
   "metadata": {},
   "outputs": [],
   "source": [
    "# выполним масштабирование численных параметров методом стандартизации, функция StandardScaler\n",
    "\n",
    "numeric = ['CreditScore','Age', 'Tenure', 'Balance', 'NumOfProducts','EstimatedSalary']\n",
    "scaler = StandardScaler()\n",
    "scaler.fit(features_train[numeric])\n",
    "features_train[numeric] = scaler.transform(features_train[numeric])\n",
    "features_valid[numeric] = scaler.transform(features_valid[numeric])\n",
    "features_test[numeric] = scaler.transform(features_test[numeric])\n"
   ]
  },
  {
   "cell_type": "markdown",
   "metadata": {},
   "source": [
    "Вывод: Данные подготовлены для создания классификационной модели, которая позволит предсказать уйдет или останется клиент в банке. Значения типа NaN удалены, категориальные признаки преобразованы техникой ohe, численные признаки стандартизованы. Данные разбиты на обучающую, валидационную и тестовую выборки."
   ]
  },
  {
   "cell_type": "markdown",
   "metadata": {},
   "source": [
    "## Исследование задачи"
   ]
  },
  {
   "cell_type": "code",
   "execution_count": 12,
   "metadata": {},
   "outputs": [
    {
     "name": "stdout",
     "output_type": "stream",
     "text": [
      "Матрица ошибок:\n",
      "[[1506   76]\n",
      " [ 319   99]]\n",
      "Точность:  0.5657142857142857\n",
      "Полнота:  0.23684210526315788\n",
      "F1-мера:  0.33389544688026984\n",
      "AUC_ROC:  0.7584079869827424\n"
     ]
    },
    {
     "data": {
      "image/png": "[encoded data removed]",
      "text/plain": [
       "<Figure size 640x480 with 1 Axes>"
      ]
     },
     "metadata": {},
     "output_type": "display_data"
    }
   ],
   "source": [
    "# обучим модель на основе логической регрессии и определим насколько хорошо она позволяет предсказывать целевой признак \n",
    "model = LogisticRegression(random_state=12345, solver='liblinear')\n",
    "model.fit(features_train, target_train)\n",
    "predicted_valid = model.predict(features_valid)\n",
    "print('Матрица ошибок:')\n",
    "print(confusion_matrix(target_valid, predicted_valid))\n",
    "print('Точность: ', precision_score(target_valid, predicted_valid))\n",
    "print('Полнота: ', recall_score(target_valid, predicted_valid))\n",
    "print('F1-мера: ', f1_score(target_valid, predicted_valid))\n",
    "\n",
    "probabilities_valid = model.predict_proba(features_valid)\n",
    "probabilities_one_valid = probabilities_valid[:, 1]\n",
    "\n",
    "auc_roc = roc_auc_score(target_valid, probabilities_one_valid)\n",
    "print('AUC_ROC: ', auc_roc)\n",
    "\n",
    "fpr, tpr, thresholds = roc_curve(target_valid, probabilities_one_valid)\n",
    "\n",
    "plt.figure()\n",
    "plt.plot(fpr, tpr)\n",
    "plt.xlim([0.0, 1.0])\n",
    "plt.ylim([0.0, 1.0])\n",
    "plt.xlabel('False Positive Rate')\n",
    "plt.ylabel('True Positive Rate')\n",
    "plt.title('ROC-кривая');\n"
   ]
  },
  {
   "cell_type": "markdown",
   "metadata": {},
   "source": [
    "Классификационная модель на основе логической регрессии не позволяет точно и в полной мере предсказывать останется или уйдет клиент из банка (значение F1-меры составляет 0,3)."
   ]
  },
  {
   "cell_type": "code",
   "execution_count": 13,
   "metadata": {},
   "outputs": [
    {
     "name": "stdout",
     "output_type": "stream",
     "text": [
      "max_depth = 1 : 0.0\n",
      "max_depth = 2 : 0.5217391304347825\n",
      "max_depth = 3 : 0.4234875444839857\n",
      "max_depth = 4 : 0.5528700906344411\n",
      "max_depth = 5 : 0.5406249999999999\n",
      "max_depth = 6 : 0.5696969696969697\n",
      "max_depth = 7 : 0.5320813771517998\n",
      "max_depth = 8 : 0.5435114503816794\n",
      "max_depth = 9 : 0.5722543352601155\n",
      "max_depth = 10 : 0.5388888888888889\n",
      "max_depth = 11 : 0.5132978723404256\n",
      "max_depth = 12 : 0.5019710906701709\n",
      "max_depth = 13 : 0.5064599483204134\n",
      "max_depth = 14 : 0.5174129353233831\n"
     ]
    }
   ],
   "source": [
    "# попробуем построить клссификационную модель на основе решающего дерева и найти ее оптимальные параметры\n",
    "for depth in range(1, 15):\n",
    "    model = DecisionTreeClassifier(random_state=12345, max_depth=depth)\n",
    "    model.fit(features_train, target_train)\n",
    "    predicted_valid = model.predict(features_valid)\n",
    "    print('max_depth =', depth, ':', end=' ')\n",
    "    print(f1_score(target_valid, predicted_valid))\n",
    "    "
   ]
  },
  {
   "cell_type": "markdown",
   "metadata": {},
   "source": [
    "Наилучший результат по метрике F1-мера показывает модель решающего дерева с максимальной глубиной равной 6. Однако достигнутое значение F1-меры (0,576) меньше целевого (0,59)."
   ]
  },
  {
   "cell_type": "code",
   "execution_count": 14,
   "metadata": {},
   "outputs": [
    {
     "name": "stdout",
     "output_type": "stream",
     "text": [
      "AUC_ROC:  0.8164631712023421\n"
     ]
    },
    {
     "data": {
      "image/png": "[encoded data removed]",
      "text/plain": [
       "<Figure size 640x480 with 1 Axes>"
      ]
     },
     "metadata": {},
     "output_type": "display_data"
    }
   ],
   "source": [
    "# построим ROC-кривую и найдем полощадь под ней для модели решающего дерева с максимальной глубиной 6\n",
    "model = DecisionTreeClassifier(random_state=12345, max_depth=6)\n",
    "model.fit(features_train, target_train)\n",
    "\n",
    "probabilities_valid = model.predict_proba(features_valid)\n",
    "probabilities_one_valid = probabilities_valid[:, 1]\n",
    "\n",
    "auc_roc = roc_auc_score(target_valid, probabilities_one_valid)\n",
    "print('AUC_ROC: ', auc_roc)\n",
    "\n",
    "fpr, tpr, thresholds = roc_curve(target_valid, probabilities_one_valid)\n",
    "\n",
    "plt.figure()\n",
    "plt.plot(fpr, tpr)\n",
    "plt.xlim([0.0, 1.0])\n",
    "plt.ylim([0.0, 1.0])\n",
    "plt.xlabel('False Positive Rate')\n",
    "plt.ylabel('True Positive Rate')\n",
    "plt.title('ROC-кривая');"
   ]
  },
  {
   "cell_type": "code",
   "execution_count": 15,
   "metadata": {},
   "outputs": [
    {
     "name": "stdout",
     "output_type": "stream",
     "text": [
      "n_extimators = 1 : 0.4961948249619483\n",
      "n_extimators = 2 : 0.4969512195121951\n",
      "n_extimators = 3 : 0.5007874015748032\n",
      "n_extimators = 4 : 0.5285935085007728\n",
      "n_extimators = 5 : 0.5575757575757576\n",
      "n_extimators = 6 : 0.5418569254185692\n",
      "n_extimators = 7 : 0.5592705167173253\n",
      "n_extimators = 8 : 0.5617283950617283\n",
      "n_extimators = 9 : 0.565284178187404\n",
      "n_extimators = 10 : 0.5533230293663061\n",
      "n_extimators = 11 : 0.5471406491499228\n",
      "n_extimators = 12 : 0.541471048513302\n",
      "n_extimators = 13 : 0.5603715170278637\n",
      "n_extimators = 14 : 0.5555555555555556\n",
      "n_extimators = 15 : 0.545171339563863\n",
      "n_extimators = 16 : 0.5496894409937888\n",
      "n_extimators = 17 : 0.5514018691588785\n",
      "n_extimators = 18 : 0.5514018691588785\n",
      "n_extimators = 19 : 0.5571205007824727\n",
      "n_extimators = 20 : 0.5557299843014128\n"
     ]
    }
   ],
   "source": [
    "# построим модель на основе алгоритма случайного леса и найдем ее оптимальные параметры\n",
    "for est in range(1, 21):\n",
    "    model = RandomForestClassifier(random_state=12345, n_estimators=est, max_depth=7)\n",
    "    model.fit(features_train, target_train)\n",
    "    predicted_valid = model.predict(features_valid)\n",
    "    print('n_extimators =', est, ':', end=' ')\n",
    "    print(f1_score(target_valid, predicted_valid)) "
   ]
  },
  {
   "cell_type": "markdown",
   "metadata": {},
   "source": [
    "Найлучший результат по метрике F1-мера показывает модель случайного леса с числом деревьев 19 и максимальной глубиной 7. Однако наилучшее значение метрики меньше необходимого."
   ]
  },
  {
   "cell_type": "code",
   "execution_count": 16,
   "metadata": {},
   "outputs": [
    {
     "name": "stdout",
     "output_type": "stream",
     "text": [
      "AUC_ROC:  0.8473186687555575\n"
     ]
    },
    {
     "data": {
      "image/png": "[encoded data removed]",
      "text/plain": [
       "<Figure size 640x480 with 1 Axes>"
      ]
     },
     "metadata": {},
     "output_type": "display_data"
    }
   ],
   "source": [
    "# построим ROC-кривую и найдем полощадь под ней для модели случайного леса с количеством деревьев 19 и максимальной глубиной 7\n",
    "model = RandomForestClassifier(random_state=12345, n_estimators=19, max_depth=7)\n",
    "model.fit(features_train, target_train)\n",
    "\n",
    "probabilities_valid = model.predict_proba(features_valid)\n",
    "probabilities_one_valid = probabilities_valid[:, 1]\n",
    "\n",
    "auc_roc = roc_auc_score(target_valid, probabilities_one_valid)\n",
    "print('AUC_ROC: ', auc_roc)\n",
    "\n",
    "fpr, tpr, thresholds = roc_curve(target_valid, probabilities_one_valid)\n",
    "\n",
    "plt.figure()\n",
    "plt.plot(fpr, tpr)\n",
    "plt.xlim([0.0, 1.0])\n",
    "plt.ylim([0.0, 1.0])\n",
    "plt.xlabel('False Positive Rate')\n",
    "plt.ylabel('True Positive Rate')\n",
    "plt.title('ROC-кривая');"
   ]
  },
  {
   "cell_type": "markdown",
   "metadata": {},
   "source": [
    "Вывод: Ни один из алгоритмов классификации не позволяет построить модель, которая будет достаточно точно и полно предсказывать целевой признак (значения метрики F1 ниже заданного порога).\n",
    "Возможная причина такого результата - дисбаланс классов в обучающей выборке."
   ]
  },
  {
   "cell_type": "markdown",
   "metadata": {},
   "source": [
    "## Борьба с дисбалансом"
   ]
  },
  {
   "cell_type": "code",
   "execution_count": 17,
   "metadata": {},
   "outputs": [
    {
     "name": "stdout",
     "output_type": "stream",
     "text": [
      "0    0.7963\n",
      "1    0.2037\n",
      "Name: Exited, dtype: float64\n"
     ]
    },
    {
     "data": {
      "text/plain": [
       "<AxesSubplot:>"
      ]
     },
     "execution_count": 17,
     "metadata": {},
     "output_type": "execute_result"
    },
    {
     "data": {
      "image/png": "[encoded data removed]",
      "text/plain": [
       "<Figure size 640x480 with 1 Axes>"
      ]
     },
     "metadata": {},
     "output_type": "display_data"
    }
   ],
   "source": [
    "# определим соотношение классов в целевом признаке\n",
    "class_frequency = data['Exited'].value_counts(normalize=True)\n",
    "print(class_frequency)\n",
    "class_frequency.plot(kind='bar')"
   ]
  },
  {
   "cell_type": "markdown",
   "metadata": {},
   "source": [
    "В целевом признаке выявлен существенный дисбаланс классов."
   ]
  },
  {
   "cell_type": "code",
   "execution_count": 18,
   "metadata": {},
   "outputs": [
    {
     "name": "stdout",
     "output_type": "stream",
     "text": [
      "Точность:  0.3784860557768924\n",
      "Полнота:  0.6818181818181818\n",
      "F1-мера:  0.48676345004269855\n",
      "AUC_ROC:  0.7633469232211663\n"
     ]
    },
    {
     "data": {
      "image/png": "[encoded data removed]",
      "text/plain": [
       "<Figure size 640x480 with 1 Axes>"
      ]
     },
     "metadata": {},
     "output_type": "display_data"
    }
   ],
   "source": [
    "# обучим модель логической регрессии с учетом дисбаланса классов\n",
    "model = LogisticRegression(random_state=12345, solver='liblinear', class_weight='balanced')\n",
    "model.fit(features_train, target_train)\n",
    "predicted_valid = model.predict(features_valid)\n",
    "\n",
    "print('Точность: ', precision_score(target_valid, predicted_valid))\n",
    "print('Полнота: ', recall_score(target_valid, predicted_valid))\n",
    "print('F1-мера: ', f1_score(target_valid, predicted_valid))\n",
    "\n",
    "probabilities_valid = model.predict_proba(features_valid)\n",
    "probabilities_one_valid = probabilities_valid[:, 1]\n",
    "\n",
    "auc_roc = roc_auc_score(target_valid, probabilities_one_valid)\n",
    "print('AUC_ROC: ', auc_roc)\n",
    "\n",
    "fpr, tpr, thresholds = roc_curve(target_valid, probabilities_one_valid)\n",
    "\n",
    "plt.figure()\n",
    "plt.plot(fpr, tpr)\n",
    "plt.xlim([0.0, 1.0])\n",
    "plt.ylim([0.0, 1.0])\n",
    "plt.xlabel('False Positive Rate')\n",
    "plt.ylabel('True Positive Rate')\n",
    "plt.title('ROC-кривая');"
   ]
  },
  {
   "cell_type": "markdown",
   "metadata": {},
   "source": [
    "Метрика F1-мера улучшилась с 0,3 до 0,5 при учете дисбаланса классов. "
   ]
  },
  {
   "cell_type": "code",
   "execution_count": 19,
   "metadata": {},
   "outputs": [
    {
     "name": "stdout",
     "output_type": "stream",
     "text": [
      "Точность:  0.5258620689655172\n",
      "Полнота:  0.7296650717703349\n",
      "F1-мера:  0.6112224448897795\n",
      "AUC_ROC:  0.8436469794760434\n"
     ]
    },
    {
     "data": {
      "image/png": "[encoded data removed]",
      "text/plain": [
       "<Figure size 640x480 with 1 Axes>"
      ]
     },
     "metadata": {},
     "output_type": "display_data"
    }
   ],
   "source": [
    "# попробуем увеличить частоту встречаемости редкого класса в обучающей выборке техникой upsampling\n",
    "def upsample(features, target, repeat):\n",
    "    features_zeros = features[target == 0]\n",
    "    features_ones = features[target == 1]\n",
    "    target_zeros = target[target == 0]\n",
    "    target_ones = target[target == 1]\n",
    "\n",
    "    features_upsampled = pd.concat([features_zeros] + [features_ones] * repeat)\n",
    "    target_upsampled = pd.concat([target_zeros] + [target_ones] * repeat)\n",
    "    \n",
    "    features_upsampled, target_upsampled = shuffle(\n",
    "        features_upsampled, target_upsampled, random_state=12345)\n",
    "    \n",
    "    return features_upsampled, target_upsampled\n",
    "\n",
    "features_upsampled, target_upsampled = upsample(features_train, target_train, 4)\n",
    "\n",
    "# обучим модель на увеличенной выборке\n",
    "#model = LogisticRegression(random_state=12345, solver='liblinear')\n",
    "#model = DecisionTreeClassifier(random_state=12345, max_depth=5)\n",
    "model = RandomForestClassifier(random_state=12345, n_estimators=20, max_depth=5)\n",
    "model.fit(features_upsampled, target_upsampled)\n",
    "predicted_valid = model.predict(features_valid)\n",
    "\n",
    "print('Точность: ', precision_score(target_valid, predicted_valid))\n",
    "print('Полнота: ', recall_score(target_valid, predicted_valid))\n",
    "print('F1-мера: ', f1_score(target_valid, predicted_valid))\n",
    "\n",
    "probabilities_valid = model.predict_proba(features_valid)\n",
    "probabilities_one_valid = probabilities_valid[:, 1]\n",
    "\n",
    "auc_roc = roc_auc_score(target_valid, probabilities_one_valid)\n",
    "print('AUC_ROC: ', auc_roc)\n",
    "\n",
    "fpr, tpr, thresholds = roc_curve(target_valid, probabilities_one_valid)\n",
    "\n",
    "plt.figure()\n",
    "plt.plot(fpr, tpr)\n",
    "plt.xlim([0.0, 1.0])\n",
    "plt.ylim([0.0, 1.0])\n",
    "plt.xlabel('False Positive Rate')\n",
    "plt.ylabel('True Positive Rate')\n",
    "plt.title('ROC-кривая');"
   ]
  },
  {
   "cell_type": "markdown",
   "metadata": {},
   "source": [
    "Техника увеличения выборки за счет увеличения частоты втречаемости редкого класса позволяет построить модели, обладающие более высокой точностью и полнотой предсказаний по сравнению с моделью, которая обучалась на исходной выборке."
   ]
  },
  {
   "cell_type": "code",
   "execution_count": 20,
   "metadata": {},
   "outputs": [
    {
     "name": "stdout",
     "output_type": "stream",
     "text": [
      "Точность:  0.5952890792291221\n",
      "Полнота:  0.6650717703349283\n",
      "F1-мера:  0.6282485875706215\n",
      "AUC_ROC:  0.8436250521718618\n"
     ]
    },
    {
     "data": {
      "image/png": "[encoded data removed]",
      "text/plain": [
       "<Figure size 640x480 with 1 Axes>"
      ]
     },
     "metadata": {},
     "output_type": "display_data"
    }
   ],
   "source": [
    "# применим технику downsampling с целью уменьшить частоту встречаемости доминирующего класса\n",
    "def downsample(features, target, fraction):\n",
    "    features_zeros = features[target == 0]\n",
    "    features_ones = features[target == 1]\n",
    "    target_zeros = target[target == 0]\n",
    "    target_ones = target[target == 1]\n",
    "    \n",
    "    features_downsampled = pd.concat([features_zeros.sample(frac=fraction, random_state=12345)]+[features_ones])\n",
    "    target_downsampled = pd.concat([target_zeros.sample(frac=fraction, random_state=12345)]+[target_ones])\n",
    "    \n",
    "    features_downsampled, target_downsampled = shuffle(\n",
    "        features_downsampled, target_downsampled, random_state=12345)\n",
    "    \n",
    "    return features_downsampled, target_downsampled\n",
    "\n",
    "features_downsampled, target_downsampled = downsample(features_train, target_train, 0.35)\n",
    "\n",
    "# обучим модель на уменьшенной выборке\n",
    "#model = LogisticRegression(random_state=12345, solver='liblinear')\n",
    "#model = DecisionTreeClassifier(random_state=12345, max_depth=5)\n",
    "model = RandomForestClassifier(random_state=12345, n_estimators=20, max_depth=5)\n",
    "model.fit(features_downsampled, target_downsampled)\n",
    "predicted_valid = model.predict(features_valid)\n",
    "\n",
    "print('Точность: ', precision_score(target_valid, predicted_valid))\n",
    "print('Полнота: ', recall_score(target_valid, predicted_valid))\n",
    "print('F1-мера: ', f1_score(target_valid, predicted_valid))\n",
    "\n",
    "probabilities_valid = model.predict_proba(features_valid)\n",
    "probabilities_one_valid = probabilities_valid[:, 1]\n",
    "\n",
    "auc_roc = roc_auc_score(target_valid, probabilities_one_valid)\n",
    "print('AUC_ROC: ', auc_roc)\n",
    "\n",
    "fpr, tpr, thresholds = roc_curve(target_valid, probabilities_one_valid)\n",
    "\n",
    "plt.figure()\n",
    "plt.plot(fpr, tpr)\n",
    "plt.xlim([0.0, 1.0])\n",
    "plt.ylim([0.0, 1.0])\n",
    "plt.xlabel('False Positive Rate')\n",
    "plt.ylabel('True Positive Rate')\n",
    "plt.title('ROC-кривая');"
   ]
  },
  {
   "cell_type": "markdown",
   "metadata": {},
   "source": [
    "Техника уменьшения выборки позволяет улучшить качество моделей. Модель классификации на основе случайного леса показывает наилучшие результаты."
   ]
  },
  {
   "cell_type": "code",
   "execution_count": 21,
   "metadata": {},
   "outputs": [
    {
     "name": "stdout",
     "output_type": "stream",
     "text": [
      "Порог = 0.00 | Точность = 0.209, Полнота = 1.000, F1-мера = 0.346\n",
      "Порог = 0.05 | Точность = 0.216, Полнота = 1.000, F1-мера = 0.355\n",
      "Порог = 0.10 | Точность = 0.275, Полнота = 0.931, F1-мера = 0.424\n",
      "Порог = 0.15 | Точность = 0.381, Полнота = 0.844, F1-мера = 0.525\n",
      "Порог = 0.20 | Точность = 0.481, Полнота = 0.737, F1-мера = 0.582\n",
      "Порог = 0.25 | Точность = 0.574, Полнота = 0.629, F1-мера = 0.600\n",
      "Порог = 0.30 | Точность = 0.646, Полнота = 0.572, F1-мера = 0.607\n",
      "Порог = 0.35 | Точность = 0.719, Полнота = 0.522, F1-мера = 0.605\n",
      "Порог = 0.40 | Точность = 0.770, Полнота = 0.464, F1-мера = 0.579\n",
      "Порог = 0.45 | Точность = 0.797, Полнота = 0.423, F1-мера = 0.553\n",
      "Порог = 0.50 | Точность = 0.827, Полнота = 0.378, F1-мера = 0.519\n",
      "Порог = 0.55 | Точность = 0.878, Полнота = 0.292, F1-мера = 0.438\n"
     ]
    },
    {
     "data": {
      "image/png": "[encoded data removed]",
      "text/plain": [
       "<Figure size 600x600 with 1 Axes>"
      ]
     },
     "metadata": {},
     "output_type": "display_data"
    }
   ],
   "source": [
    "# попробуем найти оптимальной соотношения между классами для классификационной модели\n",
    "\n",
    "#model = LogisticRegression(random_state=12345, solver='liblinear')\n",
    "model = RandomForestClassifier(random_state=12345,n_estimators=20, max_depth=5)\n",
    "model.fit(features_train, target_train)\n",
    "probabilities_valid = model.predict_proba(features_valid)\n",
    "probabilities_one_valid = probabilities_valid[:, 1]\n",
    "\n",
    "for threshold in np.arange(0, 0.6, 0.05):\n",
    "    predicted_valid = probabilities_one_valid > threshold\n",
    "    precision = precision_score(target_valid, predicted_valid)\n",
    "    recall = recall_score(target_valid, predicted_valid)\n",
    "    f1 = f1_score(target_valid, predicted_valid)\n",
    "\n",
    "    print(\"Порог = {:.2f} | Точность = {:.3f}, Полнота = {:.3f}, F1-мера = {:.3f}\".format(\n",
    "        threshold, precision, recall, f1))\n",
    "\n",
    "precision, recall, thresholds = precision_recall_curve(target_valid, probabilities_valid[:, 1])\n",
    "\n",
    "plt.figure(figsize=(6, 6))\n",
    "plt.step(recall, precision, where='post')\n",
    "plt.xlabel('Recall')\n",
    "plt.ylabel('Precision')\n",
    "plt.ylim([0.0, 1.05])\n",
    "plt.xlim([0.0, 1.0])\n",
    "plt.title('Кривая Precision-Recall')\n",
    "plt.show() "
   ]
  },
  {
   "cell_type": "markdown",
   "metadata": {},
   "source": [
    "Оптимальное соотношение между классами для модели случайного леса достигает при пороговом значении от 0,25 до 0,35."
   ]
  },
  {
   "cell_type": "markdown",
   "metadata": {},
   "source": [
    "## Тестирование модели"
   ]
  },
  {
   "cell_type": "code",
   "execution_count": 22,
   "metadata": {},
   "outputs": [
    {
     "name": "stdout",
     "output_type": "stream",
     "text": [
      "Точность:  0.5543710021321961\n",
      "Полнота:  0.6146572104018913\n",
      "F1-мера:  0.5829596412556054\n",
      "AUC_ROC:  0.8436250521718618\n"
     ]
    },
    {
     "data": {
      "image/png": "[encoded data removed]",
      "text/plain": [
       "<Figure size 640x480 with 1 Axes>"
      ]
     },
     "metadata": {},
     "output_type": "display_data"
    }
   ],
   "source": [
    "# выполним тестирование модели случайного леса с количеством деревьев 20 и максимальной глучиной 5 на тестовой выборке\n",
    "model = RandomForestClassifier(random_state=12345, n_estimators=20, max_depth=5)\n",
    "model.fit(features_downsampled, target_downsampled)\n",
    "predicted_test = model.predict(features_test)\n",
    "\n",
    "print('Точность: ', precision_score(target_test, predicted_test))\n",
    "print('Полнота: ', recall_score(target_test, predicted_test))\n",
    "print('F1-мера: ', f1_score(target_test, predicted_test))\n",
    "\n",
    "probabilities_valid = model.predict_proba(features_valid)\n",
    "probabilities_one_valid = probabilities_valid[:, 1]\n",
    "\n",
    "auc_roc = roc_auc_score(target_valid, probabilities_one_valid)\n",
    "print('AUC_ROC: ', auc_roc)\n",
    "\n",
    "fpr, tpr, thresholds = roc_curve(target_valid, probabilities_one_valid)\n",
    "\n",
    "plt.figure()\n",
    "plt.plot(fpr, tpr)\n",
    "plt.xlim([0.0, 1.0])\n",
    "plt.ylim([0.0, 1.0])\n",
    "plt.xlabel('False Positive Rate')\n",
    "plt.ylabel('True Positive Rate')\n",
    "plt.title('ROC-кривая');"
   ]
  },
  {
   "cell_type": "markdown",
   "metadata": {},
   "source": [
    "Модель случайного леса с количеством деревьев 20 и максимальной глубиной 5, обученная на уменьшенной выборке, при тестировании достигает целевого значения метрики F1-меры (>0,59). Площадь под ROC-кривой равна 0,85, что указывает на досточно хорошее качество модели."
   ]
  },
  {
   "cell_type": "markdown",
   "metadata": {},
   "source": [
    "Вывод:\n",
    "\n",
    "В проекте решалась задача построения качественной классификационной модели, которая позволила бы достаточно точно предсказать уйдет ли клиент из банка. Для решения поставленной задачи исходные данные были подготовлены для применения алгоритмов обучения и разделены на признаки и целевой признак, а также обучающую, валидационную и тестовую выборки. Были исследованы модели логической регрессии, решающего дерева и случайного леса с целью поиска оптимальной модели. Однако ни одна из моделей не достигала целевых показалей качества. Причиной недостаточного качества обучения моделей оказался дисбаланс классов целевого признака (соотношение 80:20). Были применены различные методы, позволяющие сбалансировать классы и устранить существенное преобладание одного из них. Устранение дисбаланса позволило улучшить качество моделей, а также найти оптимальную модель и ее параметры. Найлучшей оказалась модель случайного леса с количесвом деревьев 20 и максимальной глубиной 5, которая показала высокий резльтат качества работы на тестовой выборке. "
   ]
  },
  {
   "cell_type": "markdown",
   "metadata": {},
   "source": [
    "## Чек-лист готовности проекта"
   ]
  },
  {
   "cell_type": "markdown",
   "metadata": {},
   "source": [
    "Поставьте 'x' в выполненных пунктах. Далее нажмите Shift+Enter."
   ]
  },
  {
   "cell_type": "markdown",
   "metadata": {},
   "source": [
    "- [x]  Jupyter Notebook открыт\n",
    "- [x]  Весь код выполняется без ошибок\n",
    "- [x]  Ячейки с кодом расположены в порядке исполнения\n",
    "- [x]  Выполнен шаг 1: данные подготовлены\n",
    "- [x]  Выполнен шаг 2: задача исследована\n",
    "    - [x]  Исследован баланс классов\n",
    "    - [x]  Изучены модели без учёта дисбаланса\n",
    "    - [x]  Написаны выводы по результатам исследования\n",
    "- [x]  Выполнен шаг 3: учтён дисбаланс\n",
    "    - [x]  Применено несколько способов борьбы с дисбалансом\n",
    "    - [x]  Написаны выводы по результатам исследования\n",
    "- [x]  Выполнен шаг 4: проведено тестирование\n",
    "- [x]  Удалось достичь *F1*-меры не менее 0.59\n",
    "- [x]  Исследована метрика *AUC-ROC*"
   ]
  },
  {
   "cell_type": "code",
   "execution_count": null,
   "metadata": {},
   "outputs": [],
   "source": []
  }
 ],
 "metadata": {
  "ExecuteTimeLog": [
   {
    "duration": 1119,
    "start_time": "2023-02-01T15:33:05.610Z"
   },
   {
    "duration": 133,
    "start_time": "2023-02-01T15:33:08.606Z"
   },
   {
    "duration": 31,
    "start_time": "2023-02-01T15:33:37.710Z"
   },
   {
    "duration": 188,
    "start_time": "2023-02-01T15:34:04.842Z"
   },
   {
    "duration": 54,
    "start_time": "2023-02-01T15:37:15.337Z"
   },
   {
    "duration": 0,
    "start_time": "2023-02-01T15:37:15.393Z"
   },
   {
    "duration": 1433,
    "start_time": "2023-02-01T15:37:39.049Z"
   },
   {
    "duration": 47,
    "start_time": "2023-02-01T15:37:44.035Z"
   },
   {
    "duration": 153,
    "start_time": "2023-02-01T15:38:15.709Z"
   },
   {
    "duration": 58,
    "start_time": "2023-02-01T15:38:35.597Z"
   },
   {
    "duration": 75,
    "start_time": "2023-02-01T15:38:48.210Z"
   },
   {
    "duration": 6,
    "start_time": "2023-02-01T15:41:44.651Z"
   },
   {
    "duration": 12,
    "start_time": "2023-02-01T16:40:23.526Z"
   },
   {
    "duration": 12,
    "start_time": "2023-02-01T16:40:37.208Z"
   },
   {
    "duration": 16,
    "start_time": "2023-02-01T16:40:52.004Z"
   },
   {
    "duration": 9,
    "start_time": "2023-02-01T16:40:56.749Z"
   },
   {
    "duration": 14,
    "start_time": "2023-02-01T16:41:52.459Z"
   },
   {
    "duration": 12,
    "start_time": "2023-02-01T16:43:21.139Z"
   },
   {
    "duration": 4,
    "start_time": "2023-02-01T16:43:40.690Z"
   },
   {
    "duration": 7,
    "start_time": "2023-02-01T16:44:04.716Z"
   },
   {
    "duration": 10,
    "start_time": "2023-02-01T16:44:50.542Z"
   },
   {
    "duration": 11,
    "start_time": "2023-02-01T16:44:54.291Z"
   },
   {
    "duration": 15,
    "start_time": "2023-02-01T16:46:03.688Z"
   },
   {
    "duration": 12,
    "start_time": "2023-02-01T16:46:08.791Z"
   },
   {
    "duration": 6,
    "start_time": "2023-02-01T16:46:20.445Z"
   },
   {
    "duration": 10,
    "start_time": "2023-02-01T17:08:14.088Z"
   },
   {
    "duration": 19,
    "start_time": "2023-02-01T17:10:04.782Z"
   },
   {
    "duration": 6,
    "start_time": "2023-02-01T17:10:32.430Z"
   },
   {
    "duration": 10,
    "start_time": "2023-02-01T17:13:40.990Z"
   },
   {
    "duration": 21,
    "start_time": "2023-02-01T17:18:32.801Z"
   },
   {
    "duration": 11,
    "start_time": "2023-02-01T17:18:39.544Z"
   },
   {
    "duration": 28,
    "start_time": "2023-02-01T17:19:05.690Z"
   },
   {
    "duration": 8,
    "start_time": "2023-02-01T17:32:17.164Z"
   },
   {
    "duration": 53,
    "start_time": "2023-02-02T15:40:30.370Z"
   },
   {
    "duration": 1498,
    "start_time": "2023-02-02T15:40:39.934Z"
   },
   {
    "duration": 118,
    "start_time": "2023-02-02T15:40:41.435Z"
   },
   {
    "duration": 6,
    "start_time": "2023-02-02T15:40:41.555Z"
   },
   {
    "duration": 14,
    "start_time": "2023-02-02T15:40:41.563Z"
   },
   {
    "duration": 6,
    "start_time": "2023-02-02T15:40:41.579Z"
   },
   {
    "duration": 6,
    "start_time": "2023-02-02T15:40:41.594Z"
   },
   {
    "duration": 11,
    "start_time": "2023-02-02T15:40:41.602Z"
   },
   {
    "duration": 18,
    "start_time": "2023-02-02T15:40:41.615Z"
   },
   {
    "duration": 10,
    "start_time": "2023-02-02T15:40:41.636Z"
   },
   {
    "duration": 74,
    "start_time": "2023-02-02T15:40:41.648Z"
   },
   {
    "duration": 1562,
    "start_time": "2023-02-02T16:32:43.308Z"
   },
   {
    "duration": 68,
    "start_time": "2023-02-02T16:32:44.872Z"
   },
   {
    "duration": 6,
    "start_time": "2023-02-02T16:32:44.943Z"
   },
   {
    "duration": 20,
    "start_time": "2023-02-02T16:32:44.951Z"
   },
   {
    "duration": 20,
    "start_time": "2023-02-02T16:32:44.973Z"
   },
   {
    "duration": 16,
    "start_time": "2023-02-02T16:32:44.996Z"
   },
   {
    "duration": 23,
    "start_time": "2023-02-02T16:32:45.014Z"
   },
   {
    "duration": 43,
    "start_time": "2023-02-02T16:32:45.039Z"
   },
   {
    "duration": 40,
    "start_time": "2023-02-02T16:32:45.086Z"
   },
   {
    "duration": 37,
    "start_time": "2023-02-02T16:32:45.129Z"
   },
   {
    "duration": 126,
    "start_time": "2023-02-02T16:32:45.168Z"
   },
   {
    "duration": 38,
    "start_time": "2023-02-02T16:33:32.290Z"
   },
   {
    "duration": 1363,
    "start_time": "2023-02-02T16:34:06.560Z"
   },
   {
    "duration": 61,
    "start_time": "2023-02-02T16:34:07.925Z"
   },
   {
    "duration": 4,
    "start_time": "2023-02-02T16:34:07.987Z"
   },
   {
    "duration": 12,
    "start_time": "2023-02-02T16:34:07.993Z"
   },
   {
    "duration": 5,
    "start_time": "2023-02-02T16:34:08.006Z"
   },
   {
    "duration": 6,
    "start_time": "2023-02-02T16:34:08.013Z"
   },
   {
    "duration": 12,
    "start_time": "2023-02-02T16:34:08.020Z"
   },
   {
    "duration": 21,
    "start_time": "2023-02-02T16:34:08.033Z"
   },
   {
    "duration": 38,
    "start_time": "2023-02-02T16:34:08.055Z"
   },
   {
    "duration": 32,
    "start_time": "2023-02-02T16:34:08.096Z"
   },
   {
    "duration": 70,
    "start_time": "2023-02-02T16:34:08.129Z"
   },
   {
    "duration": 1429,
    "start_time": "2023-02-02T16:34:30.419Z"
   },
   {
    "duration": 67,
    "start_time": "2023-02-02T16:34:31.849Z"
   },
   {
    "duration": 5,
    "start_time": "2023-02-02T16:34:31.917Z"
   },
   {
    "duration": 63,
    "start_time": "2023-02-02T16:34:31.924Z"
   },
   {
    "duration": 26,
    "start_time": "2023-02-02T16:34:31.989Z"
   },
   {
    "duration": 19,
    "start_time": "2023-02-02T16:34:32.017Z"
   },
   {
    "duration": 20,
    "start_time": "2023-02-02T16:34:32.037Z"
   },
   {
    "duration": 47,
    "start_time": "2023-02-02T16:34:32.058Z"
   },
   {
    "duration": 19,
    "start_time": "2023-02-02T16:34:32.106Z"
   },
   {
    "duration": 33,
    "start_time": "2023-02-02T16:34:32.128Z"
   },
   {
    "duration": 37,
    "start_time": "2023-02-02T16:34:32.162Z"
   },
   {
    "duration": 1415,
    "start_time": "2023-02-02T16:36:42.827Z"
   },
   {
    "duration": 16,
    "start_time": "2023-02-02T16:38:01.399Z"
   },
   {
    "duration": 21,
    "start_time": "2023-02-02T16:38:24.668Z"
   },
   {
    "duration": 62,
    "start_time": "2023-02-02T16:41:05.034Z"
   },
   {
    "duration": 1361,
    "start_time": "2023-02-02T16:41:47.053Z"
   },
   {
    "duration": 60,
    "start_time": "2023-02-02T16:41:48.416Z"
   },
   {
    "duration": 5,
    "start_time": "2023-02-02T16:41:48.478Z"
   },
   {
    "duration": 13,
    "start_time": "2023-02-02T16:41:48.485Z"
   },
   {
    "duration": 19,
    "start_time": "2023-02-02T16:41:48.500Z"
   },
   {
    "duration": 12,
    "start_time": "2023-02-02T16:41:48.522Z"
   },
   {
    "duration": 10,
    "start_time": "2023-02-02T16:41:48.536Z"
   },
   {
    "duration": 28,
    "start_time": "2023-02-02T16:41:48.548Z"
   },
   {
    "duration": 25,
    "start_time": "2023-02-02T16:41:48.578Z"
   },
   {
    "duration": 30,
    "start_time": "2023-02-02T16:41:48.605Z"
   },
   {
    "duration": 63,
    "start_time": "2023-02-02T16:41:48.636Z"
   },
   {
    "duration": 133,
    "start_time": "2023-02-02T16:48:32.314Z"
   },
   {
    "duration": 125,
    "start_time": "2023-02-02T16:48:43.172Z"
   },
   {
    "duration": 130,
    "start_time": "2023-02-02T17:26:38.968Z"
   },
   {
    "duration": 1546,
    "start_time": "2023-02-02T17:37:17.665Z"
   },
   {
    "duration": 69,
    "start_time": "2023-02-02T17:37:19.214Z"
   },
   {
    "duration": 5,
    "start_time": "2023-02-02T17:37:19.285Z"
   },
   {
    "duration": 26,
    "start_time": "2023-02-02T17:37:19.292Z"
   },
   {
    "duration": 5,
    "start_time": "2023-02-02T17:37:19.320Z"
   },
   {
    "duration": 10,
    "start_time": "2023-02-02T17:37:19.327Z"
   },
   {
    "duration": 10,
    "start_time": "2023-02-02T17:37:19.338Z"
   },
   {
    "duration": 22,
    "start_time": "2023-02-02T17:37:19.350Z"
   },
   {
    "duration": 26,
    "start_time": "2023-02-02T17:37:19.374Z"
   },
   {
    "duration": 42,
    "start_time": "2023-02-02T17:37:19.404Z"
   },
   {
    "duration": 170,
    "start_time": "2023-02-02T17:37:19.448Z"
   },
   {
    "duration": 160,
    "start_time": "2023-02-02T17:37:19.621Z"
   },
   {
    "duration": 113,
    "start_time": "2023-02-02T17:37:19.783Z"
   },
   {
    "duration": 125,
    "start_time": "2023-02-02T17:37:58.473Z"
   },
   {
    "duration": 207,
    "start_time": "2023-02-02T17:55:22.397Z"
   },
   {
    "duration": 208,
    "start_time": "2023-02-02T17:58:12.986Z"
   },
   {
    "duration": 172,
    "start_time": "2023-02-02T17:58:28.223Z"
   },
   {
    "duration": 206,
    "start_time": "2023-02-02T17:58:35.087Z"
   },
   {
    "duration": 140,
    "start_time": "2023-02-02T17:58:40.260Z"
   },
   {
    "duration": 117,
    "start_time": "2023-02-02T17:58:46.383Z"
   },
   {
    "duration": 86,
    "start_time": "2023-02-02T17:58:51.711Z"
   },
   {
    "duration": 119,
    "start_time": "2023-02-02T17:58:56.177Z"
   },
   {
    "duration": 72,
    "start_time": "2023-02-02T17:59:01.533Z"
   },
   {
    "duration": 1544,
    "start_time": "2023-02-02T20:08:54.787Z"
   },
   {
    "duration": 102,
    "start_time": "2023-02-02T20:08:56.333Z"
   },
   {
    "duration": 4,
    "start_time": "2023-02-02T20:08:56.437Z"
   },
   {
    "duration": 14,
    "start_time": "2023-02-02T20:08:56.443Z"
   },
   {
    "duration": 5,
    "start_time": "2023-02-02T20:08:56.458Z"
   },
   {
    "duration": 7,
    "start_time": "2023-02-02T20:08:56.465Z"
   },
   {
    "duration": 10,
    "start_time": "2023-02-02T20:08:56.474Z"
   },
   {
    "duration": 21,
    "start_time": "2023-02-02T20:08:56.486Z"
   },
   {
    "duration": 8,
    "start_time": "2023-02-02T20:08:56.509Z"
   },
   {
    "duration": 53,
    "start_time": "2023-02-02T20:08:56.520Z"
   },
   {
    "duration": 86,
    "start_time": "2023-02-02T20:08:56.575Z"
   },
   {
    "duration": 230,
    "start_time": "2023-02-02T20:08:56.663Z"
   },
   {
    "duration": 69,
    "start_time": "2023-02-02T20:08:56.894Z"
   },
   {
    "duration": 108,
    "start_time": "2023-02-02T20:08:57.053Z"
   },
   {
    "duration": 195,
    "start_time": "2023-02-02T20:08:57.163Z"
   },
   {
    "duration": 118,
    "start_time": "2023-02-02T20:09:26.839Z"
   },
   {
    "duration": 125,
    "start_time": "2023-02-02T20:09:50.137Z"
   },
   {
    "duration": 83,
    "start_time": "2023-02-02T20:09:56.579Z"
   },
   {
    "duration": 50,
    "start_time": "2023-02-02T20:10:01.206Z"
   },
   {
    "duration": 31,
    "start_time": "2023-02-02T20:10:08.037Z"
   },
   {
    "duration": 100,
    "start_time": "2023-02-02T20:10:13.255Z"
   },
   {
    "duration": 42,
    "start_time": "2023-02-02T20:10:19.111Z"
   },
   {
    "duration": 1397,
    "start_time": "2023-02-02T20:14:46.652Z"
   },
   {
    "duration": 59,
    "start_time": "2023-02-02T20:14:48.051Z"
   },
   {
    "duration": 4,
    "start_time": "2023-02-02T20:14:48.112Z"
   },
   {
    "duration": 21,
    "start_time": "2023-02-02T20:14:48.118Z"
   },
   {
    "duration": 5,
    "start_time": "2023-02-02T20:14:48.141Z"
   },
   {
    "duration": 7,
    "start_time": "2023-02-02T20:14:48.148Z"
   },
   {
    "duration": 12,
    "start_time": "2023-02-02T20:14:48.157Z"
   },
   {
    "duration": 21,
    "start_time": "2023-02-02T20:14:48.171Z"
   },
   {
    "duration": 7,
    "start_time": "2023-02-02T20:14:48.194Z"
   },
   {
    "duration": 25,
    "start_time": "2023-02-02T20:14:48.203Z"
   },
   {
    "duration": 129,
    "start_time": "2023-02-02T20:14:48.229Z"
   },
   {
    "duration": 216,
    "start_time": "2023-02-02T20:14:48.360Z"
   },
   {
    "duration": 78,
    "start_time": "2023-02-02T20:14:48.577Z"
   },
   {
    "duration": 198,
    "start_time": "2023-02-02T20:14:48.658Z"
   },
   {
    "duration": 203,
    "start_time": "2023-02-02T20:14:48.859Z"
   },
   {
    "duration": 245,
    "start_time": "2023-02-02T20:14:49.154Z"
   },
   {
    "duration": 189,
    "start_time": "2023-02-02T20:16:01.711Z"
   },
   {
    "duration": 173,
    "start_time": "2023-02-02T20:16:17.403Z"
   },
   {
    "duration": 222,
    "start_time": "2023-02-02T20:16:25.956Z"
   },
   {
    "duration": 253,
    "start_time": "2023-02-02T20:16:38.033Z"
   },
   {
    "duration": 205,
    "start_time": "2023-02-02T20:16:55.589Z"
   },
   {
    "duration": 196,
    "start_time": "2023-02-02T20:17:05.868Z"
   },
   {
    "duration": 371,
    "start_time": "2023-02-02T20:20:29.435Z"
   },
   {
    "duration": 33,
    "start_time": "2023-02-02T20:21:37.704Z"
   },
   {
    "duration": 24,
    "start_time": "2023-02-02T20:23:02.871Z"
   },
   {
    "duration": 32,
    "start_time": "2023-02-02T20:23:11.261Z"
   },
   {
    "duration": 26,
    "start_time": "2023-02-02T20:23:20.241Z"
   },
   {
    "duration": 27,
    "start_time": "2023-02-02T20:23:30.802Z"
   },
   {
    "duration": 27,
    "start_time": "2023-02-02T20:23:40.435Z"
   },
   {
    "duration": 40,
    "start_time": "2023-02-02T20:23:47.558Z"
   },
   {
    "duration": 38,
    "start_time": "2023-02-02T20:23:53.933Z"
   },
   {
    "duration": 29,
    "start_time": "2023-02-02T20:24:00.243Z"
   },
   {
    "duration": 26,
    "start_time": "2023-02-02T20:24:07.962Z"
   },
   {
    "duration": 25,
    "start_time": "2023-02-02T20:24:14.767Z"
   },
   {
    "duration": 45,
    "start_time": "2023-02-02T20:25:51.955Z"
   },
   {
    "duration": 73,
    "start_time": "2023-02-02T20:26:01.303Z"
   },
   {
    "duration": 92,
    "start_time": "2023-02-02T20:26:13.487Z"
   },
   {
    "duration": 61,
    "start_time": "2023-02-02T20:26:24.419Z"
   },
   {
    "duration": 69,
    "start_time": "2023-02-02T20:26:31.586Z"
   },
   {
    "duration": 74,
    "start_time": "2023-02-02T20:26:47.231Z"
   },
   {
    "duration": 74,
    "start_time": "2023-02-02T20:26:54.426Z"
   },
   {
    "duration": 66,
    "start_time": "2023-02-02T20:29:58.716Z"
   },
   {
    "duration": 65,
    "start_time": "2023-02-02T20:30:06.264Z"
   },
   {
    "duration": 73,
    "start_time": "2023-02-02T20:30:15.748Z"
   },
   {
    "duration": 63,
    "start_time": "2023-02-02T20:30:20.509Z"
   },
   {
    "duration": 1501,
    "start_time": "2023-02-05T17:00:33.544Z"
   },
   {
    "duration": 96,
    "start_time": "2023-02-05T17:00:35.047Z"
   },
   {
    "duration": 5,
    "start_time": "2023-02-05T17:00:35.144Z"
   },
   {
    "duration": 17,
    "start_time": "2023-02-05T17:00:35.150Z"
   },
   {
    "duration": 6,
    "start_time": "2023-02-05T17:00:35.168Z"
   },
   {
    "duration": 10,
    "start_time": "2023-02-05T17:00:35.176Z"
   },
   {
    "duration": 15,
    "start_time": "2023-02-05T17:00:35.188Z"
   },
   {
    "duration": 37,
    "start_time": "2023-02-05T17:00:35.204Z"
   },
   {
    "duration": 8,
    "start_time": "2023-02-05T17:00:35.243Z"
   },
   {
    "duration": 29,
    "start_time": "2023-02-05T17:00:35.254Z"
   },
   {
    "duration": 61,
    "start_time": "2023-02-05T17:00:35.285Z"
   },
   {
    "duration": 231,
    "start_time": "2023-02-05T17:00:35.348Z"
   },
   {
    "duration": 0,
    "start_time": "2023-02-05T17:00:35.581Z"
   },
   {
    "duration": 0,
    "start_time": "2023-02-05T17:00:35.582Z"
   },
   {
    "duration": 0,
    "start_time": "2023-02-05T17:00:35.583Z"
   },
   {
    "duration": 0,
    "start_time": "2023-02-05T17:00:35.584Z"
   },
   {
    "duration": 0,
    "start_time": "2023-02-05T17:00:35.585Z"
   },
   {
    "duration": 0,
    "start_time": "2023-02-05T17:00:35.586Z"
   },
   {
    "duration": 126,
    "start_time": "2023-02-05T17:01:49.225Z"
   },
   {
    "duration": 132,
    "start_time": "2023-02-05T17:06:05.505Z"
   },
   {
    "duration": 379,
    "start_time": "2023-02-05T17:06:07.573Z"
   },
   {
    "duration": 294,
    "start_time": "2023-02-05T17:06:31.533Z"
   },
   {
    "duration": 1301,
    "start_time": "2023-02-05T17:07:21.814Z"
   },
   {
    "duration": 57,
    "start_time": "2023-02-05T17:07:23.118Z"
   },
   {
    "duration": 5,
    "start_time": "2023-02-05T17:07:23.176Z"
   },
   {
    "duration": 14,
    "start_time": "2023-02-05T17:07:23.182Z"
   },
   {
    "duration": 4,
    "start_time": "2023-02-05T17:07:23.198Z"
   },
   {
    "duration": 11,
    "start_time": "2023-02-05T17:07:23.204Z"
   },
   {
    "duration": 9,
    "start_time": "2023-02-05T17:07:23.216Z"
   },
   {
    "duration": 16,
    "start_time": "2023-02-05T17:07:23.237Z"
   },
   {
    "duration": 7,
    "start_time": "2023-02-05T17:07:23.255Z"
   },
   {
    "duration": 25,
    "start_time": "2023-02-05T17:07:23.263Z"
   },
   {
    "duration": 56,
    "start_time": "2023-02-05T17:07:23.290Z"
   },
   {
    "duration": 231,
    "start_time": "2023-02-05T17:07:23.347Z"
   },
   {
    "duration": 307,
    "start_time": "2023-02-05T17:07:23.580Z"
   },
   {
    "duration": 129,
    "start_time": "2023-02-05T17:07:23.890Z"
   },
   {
    "duration": 117,
    "start_time": "2023-02-05T17:07:24.021Z"
   },
   {
    "duration": 126,
    "start_time": "2023-02-05T17:07:24.140Z"
   },
   {
    "duration": 160,
    "start_time": "2023-02-05T17:07:24.341Z"
   },
   {
    "duration": 358,
    "start_time": "2023-02-05T17:07:24.502Z"
   },
   {
    "duration": 65,
    "start_time": "2023-02-05T17:07:24.862Z"
   },
   {
    "duration": 266,
    "start_time": "2023-02-05T17:07:44.172Z"
   },
   {
    "duration": 276,
    "start_time": "2023-02-05T17:07:51.436Z"
   },
   {
    "duration": 886,
    "start_time": "2023-02-05T17:09:39.030Z"
   },
   {
    "duration": 873,
    "start_time": "2023-02-05T17:09:48.080Z"
   },
   {
    "duration": 1036,
    "start_time": "2023-02-05T17:09:54.865Z"
   },
   {
    "duration": 219,
    "start_time": "2023-02-05T17:12:49.564Z"
   },
   {
    "duration": 355,
    "start_time": "2023-02-05T17:15:12.499Z"
   },
   {
    "duration": 360,
    "start_time": "2023-02-05T17:27:00.201Z"
   },
   {
    "duration": 75,
    "start_time": "2023-02-05T17:32:00.243Z"
   },
   {
    "duration": 74,
    "start_time": "2023-02-05T17:32:07.391Z"
   },
   {
    "duration": 67,
    "start_time": "2023-02-05T17:32:13.568Z"
   },
   {
    "duration": 1541,
    "start_time": "2023-02-07T04:45:08.485Z"
   },
   {
    "duration": 105,
    "start_time": "2023-02-07T04:45:10.028Z"
   },
   {
    "duration": 6,
    "start_time": "2023-02-07T04:45:10.135Z"
   },
   {
    "duration": 12,
    "start_time": "2023-02-07T04:45:10.142Z"
   },
   {
    "duration": 5,
    "start_time": "2023-02-07T04:45:10.155Z"
   },
   {
    "duration": 5,
    "start_time": "2023-02-07T04:45:10.162Z"
   },
   {
    "duration": 6,
    "start_time": "2023-02-07T04:45:10.169Z"
   },
   {
    "duration": 47,
    "start_time": "2023-02-07T04:45:10.177Z"
   },
   {
    "duration": 7,
    "start_time": "2023-02-07T04:45:10.225Z"
   },
   {
    "duration": 28,
    "start_time": "2023-02-07T04:45:10.234Z"
   },
   {
    "duration": 49,
    "start_time": "2023-02-07T04:45:10.263Z"
   },
   {
    "duration": 278,
    "start_time": "2023-02-07T04:45:10.317Z"
   },
   {
    "duration": 1120,
    "start_time": "2023-02-07T04:45:10.596Z"
   },
   {
    "duration": 119,
    "start_time": "2023-02-07T04:45:11.718Z"
   },
   {
    "duration": 74,
    "start_time": "2023-02-07T04:45:11.838Z"
   },
   {
    "duration": 199,
    "start_time": "2023-02-07T04:45:11.914Z"
   },
   {
    "duration": 167,
    "start_time": "2023-02-07T04:45:12.116Z"
   },
   {
    "duration": 365,
    "start_time": "2023-02-07T04:45:12.285Z"
   },
   {
    "duration": 73,
    "start_time": "2023-02-07T04:45:12.651Z"
   },
   {
    "duration": 1529,
    "start_time": "2023-02-12T15:53:47.485Z"
   },
   {
    "duration": 194,
    "start_time": "2023-02-12T15:53:49.016Z"
   },
   {
    "duration": 5,
    "start_time": "2023-02-12T15:53:49.211Z"
   },
   {
    "duration": 11,
    "start_time": "2023-02-12T15:53:49.219Z"
   },
   {
    "duration": 5,
    "start_time": "2023-02-12T15:53:49.232Z"
   },
   {
    "duration": 13,
    "start_time": "2023-02-12T15:53:49.239Z"
   },
   {
    "duration": 11,
    "start_time": "2023-02-12T15:53:49.254Z"
   },
   {
    "duration": 40,
    "start_time": "2023-02-12T15:53:49.266Z"
   },
   {
    "duration": 7,
    "start_time": "2023-02-12T15:53:49.308Z"
   },
   {
    "duration": 33,
    "start_time": "2023-02-12T15:53:49.318Z"
   },
   {
    "duration": 140,
    "start_time": "2023-02-12T15:53:49.353Z"
   },
   {
    "duration": 246,
    "start_time": "2023-02-12T15:53:49.496Z"
   },
   {
    "duration": 1141,
    "start_time": "2023-02-12T15:53:49.744Z"
   },
   {
    "duration": 144,
    "start_time": "2023-02-12T15:53:50.886Z"
   },
   {
    "duration": 160,
    "start_time": "2023-02-12T15:53:51.032Z"
   },
   {
    "duration": 104,
    "start_time": "2023-02-12T15:53:51.194Z"
   },
   {
    "duration": 167,
    "start_time": "2023-02-12T15:53:51.300Z"
   },
   {
    "duration": 392,
    "start_time": "2023-02-12T15:53:51.469Z"
   },
   {
    "duration": 72,
    "start_time": "2023-02-12T15:53:51.863Z"
   },
   {
    "duration": 4,
    "start_time": "2023-02-12T15:54:23.722Z"
   },
   {
    "duration": 113,
    "start_time": "2023-02-12T15:54:29.278Z"
   },
   {
    "duration": 1289,
    "start_time": "2023-02-12T16:27:23.850Z"
   },
   {
    "duration": 65,
    "start_time": "2023-02-12T16:27:25.140Z"
   },
   {
    "duration": 5,
    "start_time": "2023-02-12T16:27:25.206Z"
   },
   {
    "duration": 11,
    "start_time": "2023-02-12T16:27:25.213Z"
   },
   {
    "duration": 6,
    "start_time": "2023-02-12T16:27:25.225Z"
   },
   {
    "duration": 5,
    "start_time": "2023-02-12T16:27:25.232Z"
   },
   {
    "duration": 8,
    "start_time": "2023-02-12T16:27:25.238Z"
   },
   {
    "duration": 55,
    "start_time": "2023-02-12T16:27:25.248Z"
   },
   {
    "duration": 9,
    "start_time": "2023-02-12T16:27:25.304Z"
   },
   {
    "duration": 35,
    "start_time": "2023-02-12T16:27:25.316Z"
   },
   {
    "duration": 138,
    "start_time": "2023-02-12T16:27:25.353Z"
   },
   {
    "duration": 187,
    "start_time": "2023-02-12T16:27:25.495Z"
   },
   {
    "duration": 1135,
    "start_time": "2023-02-12T16:27:25.691Z"
   },
   {
    "duration": 133,
    "start_time": "2023-02-12T16:27:26.828Z"
   },
   {
    "duration": 133,
    "start_time": "2023-02-12T16:27:26.963Z"
   },
   {
    "duration": 203,
    "start_time": "2023-02-12T16:27:27.098Z"
   },
   {
    "duration": 160,
    "start_time": "2023-02-12T16:27:27.303Z"
   },
   {
    "duration": 381,
    "start_time": "2023-02-12T16:27:27.465Z"
   },
   {
    "duration": 74,
    "start_time": "2023-02-12T16:27:27.848Z"
   },
   {
    "duration": 375,
    "start_time": "2023-02-12T16:29:19.719Z"
   },
   {
    "duration": 404,
    "start_time": "2023-02-12T16:29:47.253Z"
   },
   {
    "duration": 476,
    "start_time": "2023-02-12T16:30:50.205Z"
   },
   {
    "duration": 385,
    "start_time": "2023-02-12T16:32:07.195Z"
   },
   {
    "duration": 1176,
    "start_time": "2023-02-12T16:34:07.218Z"
   },
   {
    "duration": 263,
    "start_time": "2023-02-12T16:34:56.993Z"
   },
   {
    "duration": 153,
    "start_time": "2023-02-12T16:35:21.488Z"
   },
   {
    "duration": 158,
    "start_time": "2023-02-12T16:37:20.291Z"
   },
   {
    "duration": 219,
    "start_time": "2023-02-12T16:42:45.629Z"
   },
   {
    "duration": 1386,
    "start_time": "2023-02-12T16:54:03.874Z"
   },
   {
    "duration": 74,
    "start_time": "2023-02-12T16:54:05.262Z"
   },
   {
    "duration": 4,
    "start_time": "2023-02-12T16:54:05.337Z"
   },
   {
    "duration": 20,
    "start_time": "2023-02-12T16:54:05.343Z"
   },
   {
    "duration": 4,
    "start_time": "2023-02-12T16:54:05.365Z"
   },
   {
    "duration": 15,
    "start_time": "2023-02-12T16:54:05.371Z"
   },
   {
    "duration": 39,
    "start_time": "2023-02-12T16:54:05.387Z"
   },
   {
    "duration": 18,
    "start_time": "2023-02-12T16:54:05.428Z"
   },
   {
    "duration": 7,
    "start_time": "2023-02-12T16:54:05.448Z"
   },
   {
    "duration": 27,
    "start_time": "2023-02-12T16:54:05.458Z"
   },
   {
    "duration": 389,
    "start_time": "2023-02-12T16:54:05.487Z"
   },
   {
    "duration": 158,
    "start_time": "2023-02-12T16:54:05.878Z"
   },
   {
    "duration": 183,
    "start_time": "2023-02-12T16:54:06.037Z"
   },
   {
    "duration": 1205,
    "start_time": "2023-02-12T16:54:06.223Z"
   },
   {
    "duration": 224,
    "start_time": "2023-02-12T16:54:07.430Z"
   },
   {
    "duration": 142,
    "start_time": "2023-02-12T16:54:07.655Z"
   },
   {
    "duration": 101,
    "start_time": "2023-02-12T16:54:07.801Z"
   },
   {
    "duration": 196,
    "start_time": "2023-02-12T16:54:07.908Z"
   },
   {
    "duration": 162,
    "start_time": "2023-02-12T16:54:08.106Z"
   },
   {
    "duration": 386,
    "start_time": "2023-02-12T16:54:08.270Z"
   },
   {
    "duration": 81,
    "start_time": "2023-02-12T16:54:08.657Z"
   },
   {
    "duration": 56,
    "start_time": "2023-02-12T17:13:44.550Z"
   },
   {
    "duration": 99,
    "start_time": "2023-02-12T17:17:02.809Z"
   },
   {
    "duration": 128,
    "start_time": "2023-02-12T17:17:17.849Z"
   },
   {
    "duration": 134,
    "start_time": "2023-02-12T17:17:34.929Z"
   },
   {
    "duration": 120,
    "start_time": "2023-02-12T17:17:42.574Z"
   },
   {
    "duration": 138,
    "start_time": "2023-02-12T17:17:47.669Z"
   },
   {
    "duration": 70,
    "start_time": "2023-02-12T17:19:28.762Z"
   },
   {
    "duration": 72,
    "start_time": "2023-02-12T17:19:45.298Z"
   },
   {
    "duration": 64,
    "start_time": "2023-02-12T17:20:44.758Z"
   },
   {
    "duration": 60,
    "start_time": "2023-02-12T17:21:00.698Z"
   },
   {
    "duration": 119,
    "start_time": "2023-02-12T17:21:19.545Z"
   },
   {
    "duration": 111,
    "start_time": "2023-02-12T17:21:27.846Z"
   },
   {
    "duration": 68,
    "start_time": "2023-02-12T17:24:05.038Z"
   },
   {
    "duration": 314,
    "start_time": "2023-02-12T17:24:05.337Z"
   },
   {
    "duration": 73,
    "start_time": "2023-02-12T17:24:22.000Z"
   },
   {
    "duration": 60,
    "start_time": "2023-02-12T17:24:32.050Z"
   },
   {
    "duration": 58,
    "start_time": "2023-02-12T17:24:38.063Z"
   },
   {
    "duration": 60,
    "start_time": "2023-02-12T17:24:42.650Z"
   },
   {
    "duration": 75,
    "start_time": "2023-02-12T17:25:01.295Z"
   },
   {
    "duration": 146,
    "start_time": "2023-02-12T17:25:16.351Z"
   },
   {
    "duration": 281,
    "start_time": "2023-02-12T17:28:49.357Z"
   },
   {
    "duration": 68,
    "start_time": "2023-02-12T17:30:31.151Z"
   },
   {
    "duration": 64,
    "start_time": "2023-02-12T17:30:37.289Z"
   },
   {
    "duration": 65,
    "start_time": "2023-02-12T17:31:12.650Z"
   },
   {
    "duration": 75,
    "start_time": "2023-02-12T17:31:18.754Z"
   },
   {
    "duration": 77,
    "start_time": "2023-02-12T17:31:26.250Z"
   },
   {
    "duration": 177,
    "start_time": "2023-02-12T17:32:18.422Z"
   },
   {
    "duration": 893,
    "start_time": "2023-02-12T18:01:09.631Z"
   },
   {
    "duration": 1119,
    "start_time": "2023-02-12T18:01:22.625Z"
   },
   {
    "duration": 1274,
    "start_time": "2023-02-12T18:02:25.119Z"
   },
   {
    "duration": 75,
    "start_time": "2023-02-12T18:02:26.395Z"
   },
   {
    "duration": 6,
    "start_time": "2023-02-12T18:02:26.472Z"
   },
   {
    "duration": 20,
    "start_time": "2023-02-12T18:02:26.481Z"
   },
   {
    "duration": 8,
    "start_time": "2023-02-12T18:02:26.503Z"
   },
   {
    "duration": 27,
    "start_time": "2023-02-12T18:02:26.512Z"
   },
   {
    "duration": 8,
    "start_time": "2023-02-12T18:02:26.540Z"
   },
   {
    "duration": 34,
    "start_time": "2023-02-12T18:02:26.550Z"
   },
   {
    "duration": 8,
    "start_time": "2023-02-12T18:02:26.586Z"
   },
   {
    "duration": 28,
    "start_time": "2023-02-12T18:02:26.597Z"
   },
   {
    "duration": 409,
    "start_time": "2023-02-12T18:02:26.626Z"
   },
   {
    "duration": 140,
    "start_time": "2023-02-12T18:02:27.036Z"
   },
   {
    "duration": 133,
    "start_time": "2023-02-12T18:02:27.178Z"
   },
   {
    "duration": 1013,
    "start_time": "2023-02-12T18:02:27.313Z"
   },
   {
    "duration": 219,
    "start_time": "2023-02-12T18:02:28.327Z"
   },
   {
    "duration": 113,
    "start_time": "2023-02-12T18:02:28.548Z"
   },
   {
    "duration": 136,
    "start_time": "2023-02-12T18:02:28.663Z"
   },
   {
    "duration": 127,
    "start_time": "2023-02-12T18:02:28.891Z"
   },
   {
    "duration": 77,
    "start_time": "2023-02-12T18:02:29.020Z"
   },
   {
    "duration": 234,
    "start_time": "2023-02-12T18:02:29.099Z"
   },
   {
    "duration": 243,
    "start_time": "2023-02-12T18:02:29.335Z"
   },
   {
    "duration": 26,
    "start_time": "2023-02-12T18:07:25.675Z"
   },
   {
    "duration": 1294,
    "start_time": "2023-02-12T18:08:44.208Z"
   },
   {
    "duration": 67,
    "start_time": "2023-02-12T18:08:45.504Z"
   },
   {
    "duration": 5,
    "start_time": "2023-02-12T18:08:45.573Z"
   },
   {
    "duration": 29,
    "start_time": "2023-02-12T18:08:45.580Z"
   },
   {
    "duration": 7,
    "start_time": "2023-02-12T18:08:45.611Z"
   },
   {
    "duration": 6,
    "start_time": "2023-02-12T18:08:45.620Z"
   },
   {
    "duration": 7,
    "start_time": "2023-02-12T18:08:45.628Z"
   },
   {
    "duration": 21,
    "start_time": "2023-02-12T18:08:45.637Z"
   },
   {
    "duration": 8,
    "start_time": "2023-02-12T18:08:45.660Z"
   },
   {
    "duration": 45,
    "start_time": "2023-02-12T18:08:45.671Z"
   },
   {
    "duration": 379,
    "start_time": "2023-02-12T18:08:45.717Z"
   },
   {
    "duration": 146,
    "start_time": "2023-02-12T18:08:46.098Z"
   },
   {
    "duration": 137,
    "start_time": "2023-02-12T18:08:46.246Z"
   },
   {
    "duration": 1107,
    "start_time": "2023-02-12T18:08:46.391Z"
   },
   {
    "duration": 203,
    "start_time": "2023-02-12T18:08:47.500Z"
   },
   {
    "duration": 114,
    "start_time": "2023-02-12T18:08:47.704Z"
   },
   {
    "duration": 74,
    "start_time": "2023-02-12T18:08:47.820Z"
   },
   {
    "duration": 214,
    "start_time": "2023-02-12T18:08:47.897Z"
   },
   {
    "duration": 65,
    "start_time": "2023-02-12T18:08:48.112Z"
   },
   {
    "duration": 255,
    "start_time": "2023-02-12T18:08:48.179Z"
   },
   {
    "duration": 267,
    "start_time": "2023-02-12T18:08:48.436Z"
   },
   {
    "duration": 1309,
    "start_time": "2023-02-12T18:11:29.682Z"
   },
   {
    "duration": 64,
    "start_time": "2023-02-12T18:11:30.993Z"
   },
   {
    "duration": 4,
    "start_time": "2023-02-12T18:11:31.059Z"
   },
   {
    "duration": 47,
    "start_time": "2023-02-12T18:11:31.065Z"
   },
   {
    "duration": 36,
    "start_time": "2023-02-12T18:11:31.113Z"
   },
   {
    "duration": 31,
    "start_time": "2023-02-12T18:11:31.150Z"
   },
   {
    "duration": 51,
    "start_time": "2023-02-12T18:11:31.182Z"
   },
   {
    "duration": 39,
    "start_time": "2023-02-12T18:11:31.234Z"
   },
   {
    "duration": 11,
    "start_time": "2023-02-12T18:11:31.274Z"
   },
   {
    "duration": 41,
    "start_time": "2023-02-12T18:11:31.288Z"
   },
   {
    "duration": 379,
    "start_time": "2023-02-12T18:11:31.331Z"
   },
   {
    "duration": 143,
    "start_time": "2023-02-12T18:11:31.712Z"
   },
   {
    "duration": 138,
    "start_time": "2023-02-12T18:11:31.857Z"
   },
   {
    "duration": 1021,
    "start_time": "2023-02-12T18:11:31.996Z"
   },
   {
    "duration": 236,
    "start_time": "2023-02-12T18:11:33.019Z"
   },
   {
    "duration": 116,
    "start_time": "2023-02-12T18:11:33.256Z"
   },
   {
    "duration": 37,
    "start_time": "2023-02-12T18:11:33.374Z"
   },
   {
    "duration": 212,
    "start_time": "2023-02-12T18:11:33.490Z"
   },
   {
    "duration": 69,
    "start_time": "2023-02-12T18:11:33.704Z"
   },
   {
    "duration": 255,
    "start_time": "2023-02-12T18:11:33.774Z"
   },
   {
    "duration": 248,
    "start_time": "2023-02-12T18:11:34.030Z"
   },
   {
    "duration": 1483,
    "start_time": "2023-02-13T11:41:04.808Z"
   },
   {
    "duration": 68,
    "start_time": "2023-02-13T11:41:06.293Z"
   },
   {
    "duration": 5,
    "start_time": "2023-02-13T11:41:06.362Z"
   },
   {
    "duration": 14,
    "start_time": "2023-02-13T11:41:06.369Z"
   },
   {
    "duration": 5,
    "start_time": "2023-02-13T11:41:06.385Z"
   },
   {
    "duration": 7,
    "start_time": "2023-02-13T11:41:06.392Z"
   },
   {
    "duration": 7,
    "start_time": "2023-02-13T11:41:06.401Z"
   },
   {
    "duration": 18,
    "start_time": "2023-02-13T11:41:06.410Z"
   },
   {
    "duration": 41,
    "start_time": "2023-02-13T11:41:06.429Z"
   },
   {
    "duration": 46,
    "start_time": "2023-02-13T11:41:06.472Z"
   },
   {
    "duration": 457,
    "start_time": "2023-02-13T11:41:06.520Z"
   },
   {
    "duration": 152,
    "start_time": "2023-02-13T11:41:06.979Z"
   },
   {
    "duration": 134,
    "start_time": "2023-02-13T11:41:07.134Z"
   },
   {
    "duration": 1021,
    "start_time": "2023-02-13T11:41:07.270Z"
   },
   {
    "duration": 197,
    "start_time": "2023-02-13T11:41:08.293Z"
   },
   {
    "duration": 116,
    "start_time": "2023-02-13T11:41:08.491Z"
   },
   {
    "duration": 62,
    "start_time": "2023-02-13T11:41:08.609Z"
   },
   {
    "duration": 208,
    "start_time": "2023-02-13T11:41:08.672Z"
   },
   {
    "duration": 66,
    "start_time": "2023-02-13T11:41:08.881Z"
   },
   {
    "duration": 251,
    "start_time": "2023-02-13T11:41:08.948Z"
   },
   {
    "duration": 241,
    "start_time": "2023-02-13T11:41:09.201Z"
   },
   {
    "duration": 1607,
    "start_time": "2023-02-13T17:16:54.867Z"
   },
   {
    "duration": 199,
    "start_time": "2023-02-13T17:16:56.476Z"
   },
   {
    "duration": 5,
    "start_time": "2023-02-13T17:16:56.677Z"
   },
   {
    "duration": 18,
    "start_time": "2023-02-13T17:16:56.685Z"
   },
   {
    "duration": 7,
    "start_time": "2023-02-13T17:16:56.705Z"
   },
   {
    "duration": 6,
    "start_time": "2023-02-13T17:16:56.714Z"
   },
   {
    "duration": 27,
    "start_time": "2023-02-13T17:16:56.721Z"
   },
   {
    "duration": 27,
    "start_time": "2023-02-13T17:16:56.751Z"
   },
   {
    "duration": 9,
    "start_time": "2023-02-13T17:16:56.780Z"
   },
   {
    "duration": 64,
    "start_time": "2023-02-13T17:16:56.791Z"
   },
   {
    "duration": 405,
    "start_time": "2023-02-13T17:16:56.857Z"
   },
   {
    "duration": 151,
    "start_time": "2023-02-13T17:16:57.264Z"
   },
   {
    "duration": 157,
    "start_time": "2023-02-13T17:16:57.417Z"
   },
   {
    "duration": 1113,
    "start_time": "2023-02-13T17:16:57.576Z"
   },
   {
    "duration": 209,
    "start_time": "2023-02-13T17:16:58.691Z"
   },
   {
    "duration": 129,
    "start_time": "2023-02-13T17:16:58.901Z"
   },
   {
    "duration": 36,
    "start_time": "2023-02-13T17:16:59.031Z"
   },
   {
    "duration": 214,
    "start_time": "2023-02-13T17:16:59.151Z"
   },
   {
    "duration": 81,
    "start_time": "2023-02-13T17:16:59.367Z"
   },
   {
    "duration": 265,
    "start_time": "2023-02-13T17:16:59.450Z"
   },
   {
    "duration": 333,
    "start_time": "2023-02-13T17:16:59.718Z"
   },
   {
    "duration": 417,
    "start_time": "2023-02-13T17:25:56.785Z"
   },
   {
    "duration": 224,
    "start_time": "2023-02-13T17:26:27.267Z"
   },
   {
    "duration": 185,
    "start_time": "2023-02-13T17:26:50.504Z"
   },
   {
    "duration": 215,
    "start_time": "2023-02-13T17:27:10.989Z"
   },
   {
    "duration": 218,
    "start_time": "2023-02-13T17:27:26.182Z"
   },
   {
    "duration": 2395,
    "start_time": "2023-02-13T17:40:11.911Z"
   },
   {
    "duration": 88,
    "start_time": "2023-02-13T17:40:14.309Z"
   },
   {
    "duration": 7,
    "start_time": "2023-02-13T17:40:14.399Z"
   },
   {
    "duration": 26,
    "start_time": "2023-02-13T17:40:14.409Z"
   },
   {
    "duration": 23,
    "start_time": "2023-02-13T17:40:14.438Z"
   },
   {
    "duration": 9,
    "start_time": "2023-02-13T17:40:14.468Z"
   },
   {
    "duration": 31,
    "start_time": "2023-02-13T17:40:14.479Z"
   },
   {
    "duration": 33,
    "start_time": "2023-02-13T17:40:14.512Z"
   },
   {
    "duration": 47,
    "start_time": "2023-02-13T17:40:14.547Z"
   },
   {
    "duration": 65,
    "start_time": "2023-02-13T17:40:14.599Z"
   },
   {
    "duration": 455,
    "start_time": "2023-02-13T17:40:14.675Z"
   },
   {
    "duration": 165,
    "start_time": "2023-02-13T17:40:15.132Z"
   },
   {
    "duration": 144,
    "start_time": "2023-02-13T17:40:15.299Z"
   },
   {
    "duration": 1261,
    "start_time": "2023-02-13T17:40:15.444Z"
   },
   {
    "duration": 228,
    "start_time": "2023-02-13T17:40:16.706Z"
   },
   {
    "duration": 153,
    "start_time": "2023-02-13T17:40:16.936Z"
   },
   {
    "duration": 399,
    "start_time": "2023-02-13T17:40:17.091Z"
   },
   {
    "duration": 326,
    "start_time": "2023-02-13T17:40:17.491Z"
   },
   {
    "duration": 212,
    "start_time": "2023-02-13T17:40:17.819Z"
   },
   {
    "duration": 276,
    "start_time": "2023-02-13T17:40:18.033Z"
   },
   {
    "duration": 215,
    "start_time": "2023-02-13T17:40:18.311Z"
   },
   {
    "duration": 1783,
    "start_time": "2023-02-14T08:40:00.592Z"
   },
   {
    "duration": 118,
    "start_time": "2023-02-14T08:40:02.377Z"
   },
   {
    "duration": 9,
    "start_time": "2023-02-14T08:40:02.496Z"
   },
   {
    "duration": 23,
    "start_time": "2023-02-14T08:40:02.511Z"
   },
   {
    "duration": 8,
    "start_time": "2023-02-14T08:40:02.536Z"
   },
   {
    "duration": 10,
    "start_time": "2023-02-14T08:40:02.545Z"
   },
   {
    "duration": 12,
    "start_time": "2023-02-14T08:40:02.557Z"
   },
   {
    "duration": 46,
    "start_time": "2023-02-14T08:40:02.571Z"
   },
   {
    "duration": 16,
    "start_time": "2023-02-14T08:40:02.619Z"
   },
   {
    "duration": 38,
    "start_time": "2023-02-14T08:40:02.638Z"
   },
   {
    "duration": 468,
    "start_time": "2023-02-14T08:40:02.677Z"
   },
   {
    "duration": 159,
    "start_time": "2023-02-14T08:40:03.146Z"
   },
   {
    "duration": 155,
    "start_time": "2023-02-14T08:40:03.307Z"
   },
   {
    "duration": 1202,
    "start_time": "2023-02-14T08:40:03.464Z"
   },
   {
    "duration": 228,
    "start_time": "2023-02-14T08:40:04.668Z"
   },
   {
    "duration": 133,
    "start_time": "2023-02-14T08:40:04.898Z"
   },
   {
    "duration": 377,
    "start_time": "2023-02-14T08:40:05.034Z"
   },
   {
    "duration": 361,
    "start_time": "2023-02-14T08:40:05.412Z"
   },
   {
    "duration": 214,
    "start_time": "2023-02-14T08:40:05.775Z"
   },
   {
    "duration": 284,
    "start_time": "2023-02-14T08:40:05.990Z"
   },
   {
    "duration": 219,
    "start_time": "2023-02-14T08:40:06.275Z"
   }
  ],
  "kernelspec": {
   "display_name": "Python 3 (ipykernel)",
   "language": "python",
   "name": "python3"
  },
  "language_info": {
   "codemirror_mode": {
    "name": "ipython",
    "version": 3
   },
   "file_extension": ".py",
   "mimetype": "text/x-python",
   "name": "python",
   "nbconvert_exporter": "python",
   "pygments_lexer": "ipython3",
   "version": "3.9.13"
  },
  "toc": {
   "base_numbering": 1,
   "nav_menu": {},
   "number_sections": true,
   "sideBar": true,
   "skip_h1_title": true,
   "title_cell": "Содержание",
   "title_sidebar": "Contents",
   "toc_cell": true,
   "toc_position": {},
   "toc_section_display": true,
   "toc_window_display": true
  }
 },
 "nbformat": 4,
 "nbformat_minor": 2
}
